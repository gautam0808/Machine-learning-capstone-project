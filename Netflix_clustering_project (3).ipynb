{
  "nbformat": 4,
  "nbformat_minor": 0,
  "metadata": {
    "colab": {
      "private_outputs": true,
      "provenance": [],
      "collapsed_sections": [
        "mDgbUHAGgjLW",
        "-JiQyfWJYklI",
        "RoGjAbkUYoAp",
        "iky9q4vBYrdO",
        "F6T5p64dYrdO",
        "y-Ehk30pYrdP",
        "yLjJCtPM0KBk",
        "xiyOF9F70UgQ",
        "7wuGOrhz0itI",
        "id1riN9m0vUs",
        "578E2V7j08f6",
        "89xtkJwZ18nB",
        "67NQN5KX2AMe",
        "Iwf50b-R2tYG",
        "GMQiZwjn3iu7",
        "WVIkgGqN3qsr",
        "XkPnILGE3zoT",
        "Hlsf0x5436Go",
        "mT9DMSJo4nBL",
        "c49ITxTc407N",
        "OeJFEK0N496M",
        "9ExmJH0g5HBk",
        "cJNqERVU536h",
        "k5UmGsbsOxih",
        "T0VqWOYE6DLQ",
        "qBMux9mC6MCf",
        "-oLEiFgy-5Pf",
        "C74aWNz2AliB",
        "2DejudWSA-a0",
        "pEMng2IbBLp7",
        "rAdphbQ9Bhjc",
        "TNVZ9zx19K6k",
        "nqoHp30x9hH9",
        "rMDnDkt2B6du",
        "yiiVWRdJDDil",
        "1UUpS68QDMuG",
        "kexQrXU-DjzY",
        "T5CmagL3EC8N",
        "BhH2vgX9EjGr",
        "qjKvONjwE8ra",
        "P1XJ9OREExlT",
        "VFOzZv6IFROw",
        "TIqpNgepFxVj",
        "VfCC591jGiD4",
        "OB4l2ZhMeS1U",
        "ArJBuiUVfxKd",
        "4qY1EAkEfxKe",
        "PiV4Ypx8fxKe",
        "TfvqoZmBfxKf",
        "dJ2tPlVmpsJ0",
        "JWYfwnehpsJ1",
        "-jK_YjpMpsJ2",
        "HAih1iBOpsJ2",
        "zVGeBEFhpsJ2",
        "bmKjuQ-FpsJ3",
        "Fze-IPXLpx6K",
        "7AN1z2sKpx6M",
        "9PIHJqyupx6M",
        "_-qAgymDpx6N",
        "Z-hykwinpx6N",
        "h_CCil-SKHpo",
        "cBFFvTBNJzUa",
        "HvGl1hHyA_VK",
        "EyNgTHvd2WFk",
        "KH5McJBi2d8v",
        "iW_Lq9qf2h6X",
        "-Kee-DAl2viO",
        "gCX9965dhzqZ",
        "gIfDvo9L0UH2"
      ]
    },
    "kernelspec": {
      "name": "python3",
      "display_name": "Python 3"
    },
    "language_info": {
      "name": "python"
    }
  },
  "cells": [
    {
      "cell_type": "markdown",
      "source": [
        "# **Project Name**    -\n",
        "\n"
      ],
      "metadata": {
        "id": "vncDsAP0Gaoa"
      }
    },
    {
      "cell_type": "markdown",
      "source": [
        "##### **Project Type**    - **Netflix Movies & TV Shows Clustering - Unsupervised Learning**\n",
        "##### **Contribution**    - **Individual**![Netflix-Presentation.jpg](data:image/jpeg;base64,/9j/4AAQSkZJRgABAQEAYABgAAD/2wCEAAMCAgMCAgMDAwMEAwMEBQgFBQQEBQoHBwYIDAoMDAsKCwsNDhIQDQ4RDgsLEBYQERMUFRUVDA8XGBYUGBIUFRQBAwQEBQQFCQUFCRQNCw0UFBQUFBQUFBQUFBQUFBQUFBQUFBQUFBQUFBQUFBQUFBQUFBQUFBQUFBQUFBQUFBQUFP/CABEIAtAFAAMBIgACEQEDEQH/xAAdAAEBAQACAwEBAAAAAAAAAAAABwYEBQIDCAEJ/9oACAEBAAAAAP5zgAAAAAAAAAAAAAAAAAAAAAAAAAAAAAAAAAAAAAAAAAAAAAAAAAAAAAAAAAAAAAAAAAAAAAAAAAAAAAAAAAAAAAAAAAAAAAAAAAAAAAAAAAAAAAAAAAAAAAAAAAAAAAAAAAAAAAAAAAAAAAAAAAAAAAAAAAAAAAAAAAAAAAAAAAAAAAAAAAAAAAAAAAAAAAAAAAAAAAAAAAAAAAAAAAAAAAAAAAAAAAAAAAAAAAAAAAAAAAAAAAAAAAAAAAAAAAAAAAAAAAAAAAAAAAAAAAAAAAAAAAAAAAAAAAAAAAAAAAAAAAAAAAAAAAAAAAAAAAAAAAAAAAAAAAAAAAAAAAAAAAAAAAAAAAAAAAAAAAAAAAAAAAAAAAAAAAAAAAAAAAAAAAAAAAAAAAAAAAAAAAAAAAAAAAAAAAAAAAAAAAAAAAAAAAAAAAAAAAAAAAAAAAAAAAAAAAAAAAAAAAAAAAAAAAAAAAAAAAAAAAAAAAAAAAAAAAAAAAAAAAAAAAAAAAAAAAAAAAAAAAAAAAAAAAAAAAAAAAAAAAAAAAAAAAAAAAAAAAAAAAAAAAAAAAAAAAAAAAAAAAAAAAAAAAAAAAAAAAAAAAAAAAAAAAAAAAAAAAAAAAAAAAAAAAAAAAAAAAAAAAAAAAAAAAAAAAAAAAAAAAAAAAAAAAAAAAAAAAAAAAAAAAAAAAAAAAAAAAAAAAAAAAAAAAAAAAAAAAAAAAAAAAAAAAAAAAAAAAAAAAAAAAAAAAAAAAAAAAAAAAAAAAAAAAAAAAAAAAAAAAAAAAAAAAAAAAAAAAAAAAAAAAAAAAAAAAAAAAAAAAAAAAAAAAAAAAAAAAAAAAAAAAAAAAAAAAAAAAAAAAAAAAAAAAAAAAAAAAAAAAAAAAAAAAAAAAAAAAAAAAAAAAAAAAAAAAAAAAAAAAAAAAAAAAAAAAAAAAAAA5HK8evPLn/vG4zkcoHj17n+YHq4Xnzv0HF4/u5n5wfAHu5jg+vy5/76eGfvYfvr4IAAAAAAAAAAAAAACr7ZFs27q5sVJ1W24ED676NAdbBNlWwMVJ6JSUeyYKJSUmxfJv8A7fTAOO3dSZOPAAAAAAAAAAAAAAAKxtWKk7u7kxUnVbbgQTrfo0B10D2daAxUnotIR7JgotISfFK1s0rw37d+1RbNgAAAAAAAAAAAAAAKxtXo+fvV3dyYqTqtt3Qcc/JLxLJ5fumeGbcGT7OtOu6n2GVn9FpCPZMFFpCT4ppLS6KH6iyumhYAAAAAAAAAAAAAABWNqSLH93cmKk6rbdCOpAPon2dZBRs60ms8BRaQj2TBRaQk+Kft47RC6ZqEpxAAAAAAAAAAAAAAABWNqZWOd3cmKk6rbdCOpAPon2dZBRs60mk9BRaQj2TBRaQk+KKHSmX1DiQL1AAAAAAAAAAAAAAAFY2p4/P/AGFyYqTqtt0I6kA+ifZ1kFGzrSaT0FFpCPZMFFpCT4o5198hO5sAAAAAAAAAAAAAAAKxtRLc/cmKk6rbdO+veGJB9E+zrIKNnWnQdCYzolFpCO5QFFpCT4oWLVnjA+AAAAAAAAAAAAAAAAKxtR0EsuTFSdVtuHr+dgfRPs6yCjZ1oEpxCi0hHMqCi0hJ8UNXYjGyQAAAAAAAAAAAAAAAKxtXSd2kNeYqTqttw9fzsD6J9nWQUbOtAlOIUWkI5lQUWkJPih7Poj9R3KAAAAAAAAAAAAAAABWNqmVNZPWMVJ1W26cdd7PXigfRfl1sEGzrTF446XgqLSEcyoKLSEnxQ1tgJ1NwAAAAAAAAAAAAAAArG1RCw87x8mKk6rbdCOpAPovy66BjZ1pNJ6Ci0hHMqCi0hJ8ULVozr4J4gAAAAAAAAAAAAAACsbVD9lvhipOq23QjqQD6L8uugY2daTSegotIRzKgotISfFHd3II3lgAAAAAAAAAAAAAABWNqh/7bxipOq23QjqQD6L8uugY2daTWeAotIRzKgotISfFFY2ro+8ZKPgAAAAAAAAAAAAAACsbVD+ivXZmKk6rbdPPTy+TypTwx9F+XXQMbOtJvOgUWkOt6308fjz7raLSEnxTmX32eqD3Tk+EC4QAAAAAAAAAAAAAABWNqh/RUmiGKk6rbcCCdaPovy66BjZ1pN50Ci0gCK5yi0hJ8UotIYiU1PdJnPgAAAAAAAAAAAAAACsbVD+i7i6mKk6rbcCB9cLx4dXHhpaKw+NBvaN7vYEVzlFpCT4rzvvNQrp+8uLqoOAAAAAAAAAAAAAAAVjaof0S6dyxMobXu+Jw+LxONxev/AAAAAHl7+RyOR03H73W8rF5/XV9mYwXPukUzoAAAAAAAAAAAAAACsbTgRfqnecrgdb6gAAAAAAAezncbjGtpfY4+TAAAAAAAAAAAAAAAOT6vWAAAAAAAAAAP3lcQAAAAAAAAAAAAAAAAAAAAAAAAAAAAAAAAAAAAAAAAAAAAAAAAAAAAAAAAAAAAAAAAAAAAAAAAAAAAAAAAAAAAAAAAAAAAAAAAAAAAAAAAAAAAAAAAAAAAAAAAAAAAAAAAAAAAAAAAAAAAAAAAAAAAAAAAAAAAAAAAAAAAAAAAAAAAAAAAAAAAAAAAAAAAAAAAAAAAAAAAAAAAAAAAAAAAAAAAAAAAAAAAAAAAAAAAAAAAAAAAAAAAAAAAAAAAAAAAAAAAAAAAAAAAAAAAAAAAAAAAAAAAAAAAAAAAAAAAAAAAAAAAAAAAAAAAAAAAAAAAAAAAAAAAAAAAAAAAAAAAAAAAAAAAAAAAAAAAAAAAAAAAAAAAAAAAAAAAAAAAAAAAAAAAAAAAAAAAAAAAAAAAAAAAAAAAAAAAAAAAAAAAAAAAAAAAAAAAAAAAAAAAAAAAAAAAAAAAAAAAAAAAAAAAAAAAAAAAAAAAAAAAAAAAAAAAAAAAAAAAAAAAAAAAAAAAAAAAAAAAAAAAAAAAAAAAAAAAAAAAAAAAAAAAAAAAAAAAAAAAAAAAAAAAAAAAAAAAAAAAAAAAAAAAAAAAAAAAAAAAAAAAAAAAAAAAAAAAAAAAAAAAAAAAAAAAAAAAAAAAAAAAAAAAAAAAAAAAAAAAAAAAAAAAAAAAAAAAAAAAAAAAAAAAAAAAAAAAAAAAAAAAAAAAAAAAAAAAAAAAAAAAAAAAAAAAAAAAAAAAAAAAAAAAAAAAAAAAAAAAAAAAAAAAAAAAAAAAAAAAAAAAAAAAAAAAAAAAAAAAAAAAAAAAAAAAAAAAAAAAAAAAAAAAAAAAAAAAAAAAAAAAAAAAAAAAAAAAAAAAAAAAAAAAAAAAAAAAAAAAAAAAAAAAAAAAAAAAAAAAAAAAAAAAAAAAAAAAAAAAAAAAAAAAAAAAAAAAAAAAH//EABsBAQADAQEBAQAAAAAAAAAAAAAFBgcDAgQB/9oACAECEAAAAAAAAAAAAAAAAAAAAAAAAAAAAAAAAAAAAAAAAAAAAAAAAAAAAAAAAAAAAAAAAAAAAAAAAAAAAAAAAAAAAAAAAAAAAAAAAAAAAAAAAAAAAAAAAAAAAAAAAAAAAAAAAAAAAAAAAAAAAAAAAAAAAAAAAAAAAAAAAAAAAAAAAAAAAAAAAAAAAAAAAAAAAAAAAAAAAAAAAAAAAAAAAAAAAAAAAAAAAAAAAAAAAAAAAAABz9evH505/h15D3+eTp4/fZ4e+Xv1489QAAAAAABnX0X2mRui53HGoZeLhFQheq33vBQOl6zOauec97+AAAAAAAM6+DTKpG6LnfWwJ2DhIa5yVS+K0fktSu94KB0vdSrd4od7mgAAAAAABnUfcPhjdFzuTuIq1Z09ReV/KB3vBQOl7+PNu3bSP0AAAAAAAZ1HyMjG6LnfD75+dVas6eosR90rbqB9F3KB0vbP4q4WUAAAAAAAM6R8ry0XO+EhPTqq1rT1FjJaRs1A+i7lA6XtTa5okiAAAAAAAGdSUR8khoudydxFVrOoKLyv5QPou5QOl755nys1vAAAAAAADOpLvVpDRc7+ux8Zr1VazqCi8r+UDlZesvQ+l7rdOmI7TPQAAAAAAAzqSsmcyGi53HGodaxXtIU3ldyhQ5pVL6XvN/ttWd3mcAAAAAAAGdStwp31WeL/AHv17gAc+X0fB+fVWJ2Rz/3fQAAAAAAB59AAAAAPPoAAAAAAAAAAAAAAAAAAAAAAAAAAAAAAAAAAAAAAAAAAAAAAAAAAAAAAAAAAAAAAAAAAAAAAAAAAAAAAAAAAAAAAAAAAAAAAAAAAAAAAAAAAAAAAAAAAAAAAAAAAAAAAAAAAAAAAAAAAAAAAAAAAAAAAAAAAAAAAAAAAAAAAAAAAAAAAAAAAAAAAAAAAAAAAAAAAAAAAAAAAAAAAAAAAAAAAAAAAAAAAAAAAAAAA/8QAHQEBAQACAwEBAQAAAAAAAAAAAAgGBwMEBQkCAf/aAAgBAxAAAAD9gAAAAAAAAAAAAAAAAAAAAAAAAAAAAAAAAAAAAAAAAAAAAAAAAAAAAAAAAAAAAAAAAAAAAAAAAAAAAAAAAAAAAAAAAAAAAAAAAAAAAAAAAAAAAAAAAAAAAAAAAAAAAAAAAAAAAAAAAAAAAAAAAAAAAAAAAAAAAAAAAAAAAAAAAAAAAAAAAAAAAAAAAAAAAAAAAAAAAAAAAAAAAAAAAAAAAAAAAAAAAAAAAAAAAAHd4uv2eTpd3lfzzvQ/R0+TsHR7H56p3Pz1vR6fD2efzwAAAAAABdPixhVefwrc+cnzw+h39Jd2Lt0jjfnjSGWr58fX/qmUrr8iKwAAAAAABdWZfP6kM/hW5/L0m07uHbm0pSwSl8unf96zrXx5CLV6Ec0xviQ7MjbVAAAAAAAAurNpdy3P4VufX0sii6A+eiw/QiwtXx5CLV6Ec5TevmeXBX5AAAAAAAF1ZtguCZ/Ctz+thmltPKLoD56LD2biGuZktXxZELV6EcrX2TLegwAAAAAAAupm2t/ShW5/UwzTGnlGUB881h7C1lg2gLV8WRC1ehHKqN8QzgoAAAAAAAXVgWy8mwuFbn19LIo2gfnisP0IsLV8WRC1ehHPd+gPpT5MQAAAAAAAXVgXj0XhMK3PjOifU1Nw0bQPzxWH6UVFq9/Qfn6wszoRzvipdXZ38/uEAAAAAAAXVgWg7vwmFbnzk+ePm0Ju+DFVehIpZm0v0gOsehHV54lOF0R7qEAAAAAAAXTraX6kx2fdh/jyfL8kAH97no+LmHPjdCadwa1urGYAAAAAAA5uEAAAABzcIAAAAAAAAAAAAAAAAAAAAAAAAAAAAAAAAAAAAAAAAAAAAAAAAAAAAAAAAAAAAAAAAAAAAAAAAAAAAAAAAAAAAAAAAAAAAAAAAAAAAAAAAAAAAAAAAAAAAAAAAAAAAAAAAAAAAAAAAAAAAAAAAAAAAAAAAAAAAAAAAAAAAAAAAAAAAAAAAAAAAAAAAAAAAAAAAAAAAAAAAAAAAAAAAAAAAAAAAAAAAAAAAAAAAAB//8QAURAAAAMDBQcPCQYEBgMBAAAAAQIDBAURAAYHEDYSICExdIGyExUWM0FRVXFykZShscLRFBcwNVRgYXPBIiMyNEKTYpKj0iZDUoKDokCzwFD/2gAIAQEAAT8A/wDmDmR3tTeYQZmZZpEMYIpiaHNLY29+Cm3o5/CSk3nqmUTndjYQoYRMZnOAB1XiaZlTlIQonOYYAUoRER3pbG3vwU29HP4S2Nvfgpt6Ofwk2Oxsd4FFqZF2YDYtWTMSPOFbI72pvEQZWZZpEMYIpiaHMEtjb34Kbejn8JbG3vwU29HP4S2Nvfgpt6Ofwlsbe/BTb0c/hLY29+Cm3o5/CWxt78FNvRz+EjTdeyZRMZ2NhShjEWc4B2SEBAYCEBqSm+9FkynTdrYoQwRAxUDiA54S2Nvfgpt6Ofwlsbe/BTb0c/hLY29+Cm3o5/CWxt78FNvRz+Etjb34Kbejn8JbG3vwU29HP4S2Nvfgpt6Ofwk0OR4siYqLsDUimGM6iJigGcQqRRUaFATSTMqobEUhRERzBLY29+Cm3o5/CWxt78FNvRz+Etjb34Kbejn8JbG3vwU29HP4S2Nvfgpt6Ofwlsbe/BTb0c/hLY29+Cm3o5/CTW72pgEAaWZZnEcWrJiWPOFTKxtDapqbOgoufHcpEEw8wS2Nvfgpt6OfwkM23uARF1toBk5/CSqJ0FDJqEMmcuASmCAhmv2VjXbVNTZ0FFz47lIgmHmCWxt78FNvRz+Etjb34Kbejn8JLM6rMoKayZ0lAxlOUQHmGpNI6yhU0yGUOYYAUoREc0tjb34Kbejn8JbG3vwU29HP4SanO3sKeqNDC0s6f+pVExQ5xC8KUyhgKUomMIwAoBERlsbe44QdbaIZOfwlsbe/BTb0c/hJZwvNmTMos7mtJMoRE50DAAZxD3domKGx5pNDCLUYP+hK6QHTrTORe4LcotH3xIYsOMOeNcy7VO35odg10s2dZsrLoHrol9QtWUjoF9BOQITiegAEA8qV0xqKUClAACABgD0E5bOPXJVdAaqKSgacqoiERBmMIfzF9BSyH+HWYYYfKi6B6qINseo7sEu9XScUAnUoIBjSII81/RAAaq9Rhhgn3q6WAAJxs8AxspY/znqdrcd2vBna0/xoqAcPjAcUmVpTbGVJoSG6SVIByjvgIRCptY03gyLMyxbpJUgkMHwEJPBiUdrc0MqoQUROJBzDjrorcgNTes8lCxTZwuE4h+scY5g7a6SX1rZN8zOQ0FmwdSDk/qHmgGf3dons605WbQJXSo6fK3Kk2kLE7Kf7XINgHrh11zLtU7fm/Qa6WLOs2Vl0D10S+oWrKR0C+gnLaJ65Wrpj6KctnXrkiugNVFNpFsmNpF9BSxZ1mysugeqiDbHrxJd+uk61R/lE7L+iDbHrxJd+uli0TNkhdM9dF748ucZ2M5oqshoByDYQ64hzV0qujyV6It5C/YaS3J+WXxCHMNRSiYwAAREcAAEprucHE42VkhBQC3SnxOOEfDNXP99a8TiWAhooM/3JN7AP2h548we7tE9nWnKzaBK3gxkeTC0Mqu1rEEg5wxyamY7G1KoKhcqJHEhg+IDAapl2qdvzfoNdLFnWbKy6B66JfULVlI6Ba3hPpzOxsUZV2kwLJjA4FTMIAO9EAl5yXD7Uf9k3hLzkuH2o/wCybwl5yXD7Uf8AZN4S85Lh9qU/ZN4Se7WVveza0pgIEWXOoUDY4CYRDtqTpKcRkyiZoUIYQiJdSNgHexS85Lh9qP8Asm8JEpGcJzlL5WYsRhEyRgDsrWWIzIqLKmAiaZROYw4gAAiIy85Dh9qP+ybwl5yXD7Uf9k3hJ+UguVrcregiuooqsgdMhdSMGExRAMYfGqim0i2TG0i1vmcLA4E0zNy+o6oIgQLkTCaGPAAS85Lh9qP+ybwl5xJvcIf0VP7ZecSb3CH9FT+2XnEm9wh/RU/tlSHOx2Px0oMzCuZdQq4KD92YoAAFMG6Ab4VUQbY9eJLv10nWqP8AKJ2X9EG2PXiS79dLFombJC6Z65gPjWmcjPdGgi0fcHz4h54ddc9nPrzN1qSKW6WTDVk+UXczhEM9VHbl12nAmocsUGX7029dfpDnw5hrne+tYnC0tBTQWMGppcscQ5sI5vd6iezrTlZtAl5Sc6fIZwA0lCCbWS7/ANwYDfQc9Uy7VO35v0GulizrNlZdA9dEvqFqykdAtc7LTPTKD9vomb8ulyA7Kp0WbemTKaI3tFNpFsmNpFrpe/MOwP4VO0t/RBtj14ku/XSdao/yidl/RBtj14ku/XSxaJmyQumesBEogIDAQlNh7A+3GyNcYqGJcqcoMA9Yddc8HRrJOBrZylgkJtUT5JsIBmwhmlR25daZvpqHLBdq++Nv3P6Q5sOca6Un15Y9k2BM0U2UInhunHwCHOPu9RPZ1pys2gS8pIdOuU21Filiqym1UOTiN1Yc1Uy7VO35v0GulizrNlZdA9dEvqFqykdAtc7LTPTKD9vomb8ulyA7Kp0WbemTKaI3tFNpFsmNpFrpe/MOzkKdpb+iDbHrxJd+uk61R/lE7L+iDbHrxJd+uli0TNkhdM95RO+LhZqdpzYDhqyYfEMBg5oc1c75n7JG52rFgUEz3C47op4+0If7pFKBSgABAAwAAVPZ5Juh2tLYr+BEgmhvjuBnGAZ5NTSo2NKq6prpVQwnMbfERiPu9RPZ1pys2gS8WRI0InSULdEOUSmLvgIQGT3d53S9GpjPjRUEsd8Nwc4QGUy7VO35v0GulizrNlZdA9dEvqFqykdAtc7LTPTKD9vomb8ulyA7Kp0WbemTKaI3tFNpFsmNpFrpe/MOzkKdpb+iDbHrxJd+uk61R/lE7L+iDbHrxJd+uli0TNkhdM9443odzPZlbCf5RwEQDdLiEM4RkkoVZMihDXRDgBimDdAcQ3tLD6uU2Z1pmwm++VhvYih2jmD3fons605WbQJe0runyd5M7wIX7LQW4Pyi4ucIfyymXap2/N+g10sWdZsrLoHrol9QtWUjoFrf1GbY83w1NaDWgVNY4nuVLqICOMMAS80rx9sZf+3hLzSvH2xl/wC3hJail5IonODUynEpRNcgJgjDcxX7N+XS5AdlU6LNvTJlNEb2im0i2TG0i1zpmehOoWYVV1EDI3QAJAAYgMN/il5o2P29f+QsvNGx+3r/AMhZeaNj9vX/AJCynhNsJrvIjMVcVyKJgoUwlgIYRCA81dEG2PXiS79dJpozqVDeSIHVf0QbY9eJLv10sWiZskLpnvaNXxrlN0iBzRVZB1IeTjKPNgzXiyxGdE6qhrlMhRMYw7gAERGT9eh309mptPENVPEoDuFxAHND3fons605WbQJez6dOu822ohSxVRDVk+MuPqiGeUy7VO35v0GulizrNlZdA9dEvqFqykdAt80/l1eQPZfs35dLkB2VTos29MmU0RvaKbSLZMbSLf0tevmXJg0zV0QbY9eJLv10mWsX+WTsv6INsevEl366WLRM2SF0z3tG741tnERE4wSaw1IeVjKPPgz3lJz71vcpWNM0FmsYD8CBj58Ac/vBRPZ1pys2gStxvczU+HywqGujsywCSP+gxQwZhAeerHgHCEmF1ay0josgBAhWiJOSIRDqGulizrNlZdA9dEvqFqykdAt80/l1eQPZfs35dLkB2VTos29MmU0RvaKbSLZMbSLf0tevmXJg0zV0QbY9eJLv10mWsX+WTsv6INsevEl366WLRM2SF0z3rOKgNCQox1W7C4hjuo4OuRY3IXWOGGFdJi6is6liHjcppkKTihHtEfeCiezrTlZtAlaL11rpSaboYJtCmoH/wBwBDrAK5zOn/FTheRC/wCbqCg5hEve6q6WLOs2Vl0D10S+oWrKR0C1zgpMeDtfDUyMzMzCkicSXSpTCIw3cBgl52Hv7MxfyH/vl52nlusbLHiN4yaKVnmsgdMrMypiYBLdABhEI579ELlIgBiAoVTmCM3HrH2VXQG9optItkxtItdIk6W+b5mJNiOVMVQMYxjFAw4IQDDxy85L+9qJ+yXwl5yX97UT9kvhLzkv72on7JfCT4fTY/WoGhtV1VUCgQMAAAAG5AOMa6INsevEl366TLWL/LJ2X9EG2PXiS79dLFombJC6Z72jVy65v4rQcsUWMNUHeu/0hz4c15Sy6IlZHkQMX3CnWJR7er3gons605WbQJXPYwknc8DFGBgUAQENzAEnC8gfDnZGwIRVTATQ3DYjBzgNSiJFrm7KBrkwGCO4IYhrpYs6zZWXQPXRL6haspHQLXOy0z0yg/b6JPay8QVTls69ckV0BvaKbSLZMbSLXS9+YdnIU7S39EG2PXiS79dJlrF/lk7L+iDbHrxJd+uli0TNkhdM97MFy6zTdRuy3K7R98pvhHEGYIZ43k4HWV9OdrYxxqE+yI7hgwlHnAJHIZM5iGASmKMBAdwfd+iezrTlZtAlc+LWPL5gaISoneuqsLU7zm+0kbVSB/COAeYQ672lizrNlZdA9dEvqFqykdAtc7LTPTKD9vok9rLxBVOWzr1yRXQG9optItkxtItdL35h2chTtLf0QbY9eJLv10mWsX+WTsv6INsevEl366WLRM2SF0z3kznLr6/2ZnMW6RKOqK8kNzOMAz31Izn1rnEoqQsEWoNWLyv1Bz4c/u/RPZ1pys2gSufFrHl8wNEJTHeutM5WRQwwSUHUT8RsHUMBzXtLFnWbKy6B66JfULVlI6Ba52WmemUH7fRJ7WXiCqctnXrkiugN7RTaRbJjaRa6Xi/fOsf4VA6y39EG2PXiS79dJlq1vlk7L+iDbHrxJd+uli0TNkhdM95Ra5fInQo3qFgq1D9n4EDAHOMeqtqnQkzzqZXPAIqpCYxt42MocwDzhXSW59cpvi0ELFVkNqgckcBg7Bze79E9nWnKzaBK58WseXzA0QliwhKbL015cTG1xic5AA/KDAbrC8pYs6zZWXQPXRL6haspHQLW+6MWp6Plra02xEiSxxUADFG6AR3JJ0QHH8b0KXkoR70k6ImUNseCxsP6UwDxknRO6Swu2hsOPLKAaMk6MnGn+JJZTlKj9ISfDKRhe7czJx1NFdRMt1hGAGEA7L1Pay8QVTls69ckV0BvaKbSLZMbSLXS/tjq4le5f0QbY9eJLv1vSbbsfKpVGxjTXUKFyBxiAw3ohI9HU3zAMGESjvlWU/ukajNxGGIIqk+AKj9ZHopc5sSrYTkqF+pZKUSO8Y3Da1F3rq5H6BKcTn1hfTSwgpqwJCEDwhEBKBg7aqINsevEl366WLRM2SF0z1ud2qPh6MzGn+JY4FjvBujmCIyZ2dNkZ0kEi3KSZQIUu8ABAKmpqTY2VVoVNcpJEE5h3gAIjJsfS7U+zvONyuK2ql/hgMQDNAAzSdrcR6O9na0vwLEA4fCIYqlkSNCJ0lC3SZyiUxR3QEICEn07Tud6NTGfGicSgO+G4OcIe71E9nWnKzaBK58WseXzA0Qqole10m2O4w4Sjq6YfDABu7z3lLFnWbKy6B66JfULVlI6BfQTltE9crV0xvU9rLxBVOWzr1yRXQG9optItkxtItdL+2OriV7l/RBtj14ku/6CkS2Lw/4//WWqiDbHrxJd+uli0TNkhdM9dE7liZpeihcX3KXaYewOeulN9eRutJ3pmgo1DdH+BA8RhzDVRS+PKHau7zm+2zmuycg2MMwx566WHPqbQyvIhcCgaipygwlHmjze71E9nWnKzaBK58WseXzA0Qqmi9dZpwMbQIwTu7hTkmwDzRjmvKWLOs2Vl0D10S+oWrKR0C+gnJaJ65Urpjepzoc+oENroxgFyAwFcscW9GRp4uRMYC82fMaPZKcc8nOo4m9JJuTWVVQOmQhIiIiYogG58b2YD6ZHE/DLtqgpImRMndgUTQERAcQYdyXnEm9wh/RU/tl5xJvcIf0VP7ZUjTjYH+swgwrCsVEp7o1wYoYYYMIBvX9FLwZWFV5A0NKSAnBO5BU4FuoXUYR4wkR7MKmEjYzmD+FUo/WRWhJSFyqQ0cUDAMb6kS2Lw/4//WWqiDbHrxJd+uli0TNkhdM9SCJ2lZNFMt2ooYClKG6IjAAk5HWRyulmYk8IJEgI75sYjnGNQjAIjgCU7n0L+fzS0gMUQHU0uQGAOfCOeqZb31lnEyrGNcoqDqSm9cmwRzDAc1c6HSD8cLWygEVDEuk+WGEPDPIQEBgIQH3dons605WbQJXPi1jy+YGiFcz3rrxN1jXEbpQpdTU5RcA8+PPXSyYNj7MWIXQtRRAN38B/GuY89mKbLtXZmpFoOY6uqFMiBRDEAQGIhvSVpcYy7WwLn5Ril8ZK0vH/AMt1lD4mXj3ZK0tPI21sbKTlXRvqElKUX2fF5OnyUvEZKUiP9TB5cBA/hSJ4SUno/Fo3TyWDkiBewJKzieq0bt5NZg3hXNDmjIREwiIjEf8AySKnTjcHMWP+kYSTebYnC4a1yQxXKhgh1yTnI9koXDzbCgG5q5odsk55PtPE82gcMftGj2yJSBOBPE8DDykiD2lk8Hg0PRsUampTVV1IXR4AEYAABgD4AFU1J2LTVWXOmgVoIsUAMUxhLijAY5xknS8mO2OsxeSuA90JJ0tO422MbUXk3JvqEp7TiQnM9k2lmTUTSIiVKCoAAjATDHAI79VGbvRan8LSuoQpWUt0UpjAAmOOAMHwwjzSjHCGEKqQn4DncCiZDwaWr7ogRww/UPN1iF5M1769TeZVzGulSl1NTlFwRz4Bz1z+c+s85GgClgi0ffEz4w549Xu7RMP+HWkN3yo2gSRjlTKJjCBShuiMAk0TidbLHVXiykEP0iqWPNGU6m5F5ThbmlA12iop9k0IRAAAI9Vc354PGbaKqLIKZklDXQlVLEAGEIhh4uaS9I7+WxNZUg3k0i/UBktO59L/AInm0hyFBL2Qk0Na7YYDLrKLGDEKhhMPX/8AootKrPtSp0+QYQkjOZ7s/wCB5tYBvasYQ5hGTe82t6LAq1tCjQcAgAqGjAN4N68mBO5KbrQsg1iYGNeA3RQjcGDdhvCHYEmedbmaoam82XDiAygFHmGSLUi0hFFVNUN8hgHslSk6fLHKm2kLFRlPh5BsA9cOv3dZXm2MJTkZmtdnKf8AEVJQxQNxwHDJZoVaDXSqp1Tb5zCI+4JTCUwCAiA74SM+G8zOZAW1oFEwQMmKprkeMI//ADB//8QAJxEAAAYBAwQCAwEAAAAAAAAAAAECAwQFNBATMxIUFVAgMREhoDD/2gAIAQIBAQUA/lnNxCTSpKtFLSkE4hRg3EJPebG82N1vTdbG82N5sbzYSpKgpaUjebG82N5sEZKJTiEmlaVfBTiEmlaVabzYSolEFLSkbrZ+vsMqqf2ZIu+avyhY5WrPH8KPjuMrWnxbXMpsnW1zKfKURKKQycd2lf6HROkdy/Vx9+R66wyiM0nHdJ9q75q/KFjlVsREtzwsYeFjBKSSXhYwsoLcMNp61+FjCLEbiJuMqEwmS/4WMPCRxGjoit2uZTZOtrmU+ULtj8G24bS58skRBUx9mP66wyhSvdSLvmr8oWOVR8vwvfpnl0uMqqy9bXMpsnW1zKfKExjuGAt5a0Q2DkvkX4L11hlCve2JN3zV+ULHKjynYqvLyxVy3ZRaXv0zy6XGU26tlfkpYrZsh6QLXMpcnW1zKfK0s2NiSKWP0o9fYZUVnfSJz3cFX5QscqPFclK8RKFXEdilpe/TPLpcZUdhUhzwskQK16K+LXMpcnW1zKfK0u3UqdFe4lyL6+wyqTnmM9u+K/KFjlUfL8L36Z5NLjKqsvW1zKXJ1tcynyg44lpDzinnBSv9KvX2GVSc92z+xX5QscqpkNR3DtYhA7iKQSolEL36Z5NLjKqsvW1zIEpMR4rqMYK4imEKJxNrmU+ULqR0NkRmc+D2qWHTYdSolJ9dYZVJzzme4jivyhY5WrPGLtClkzHe3NLWO85JrY7zcrW0Qo5f7LWJj2uZT5X0JkjuX6mPvSLBjuI4qH92P66wyqVtaXQ9TvKdi1C2XQ5WxnnE1sRIKFGSCYaT/sbaFA4zCgREknoEeQpivYjrfbN5tVGsQYhQ2hOhOMvVbxsSfXdKfz6A0kr+Wj//xAAxEQABAgMGBAUEAgMAAAAAAAABAAIDEXEQITFBgbEgMpHBEiJQ0fATUWGhMKBy4fH/2gAIAQIBBj8A/qzyJC8pnZ5jJSDhZIuC5h1XMOq5h1s5h1XMOq5h1XMOqm0zXmMlzDquYdVzDqphScQF5TPgk4yXlM7OYdVNpnZ5jJSDh19PiVQBwdd7WNp3UOtkSvA2g4X1Wg4BUp+mwRoe3A/TYIUKIKdDOSMI4O3FjnjDAUQJwbf7enxKqYTYgzCbTuodbIlU5sQmQGSxPUeyxPUeyDRksT1HsmGGTfPHRBpzKxPUeyLYc7/utAmwn4H2WJ6j2XM79ey+mzD8p+mwWh7cD9NghQ2NjjO49kIjcQvGw8+Gv+rA44uv9vT4lbHQTlf8+ZptO6h1siVT6d+GHr2Tai3QJmux4H6bBaHtwP02CFDY6HnlWxsNxubhqmw8s6KQ9PiVsa44G46ptO6h1siVRdCOKxHRP+qcJd7YevZNqLdAg+GZELn2QZEdMSNj9NgjQ9uB+mwQobXSwN/zWwxzncKfNvUIlVEGYbMaEWQn5+G+syodbIlUWw8lgOqf9UYy72w9eybUW6BCEzErEdT7IRHkS+fix+mwRoe3A/TYIUNrYYxb3sYW5CXT1CJVOp3CdD+x/VkOtkSqfTvww9eybUW6BM12PA/TYI0PbgfpsEKGwvdgE6I7E2OgHO8fPmHqESqdTuE2MKHtZDrZEqnGKZAhc/6PsrpnRBwzsh69k2ot0CZrseB+mwX1HiYlJYHoPdYnog9uBT9NghQ2CCMTjT/uykFDIzF9fmybEGSDhgfT4lU6ncJzM8tLIdbIleBtBZD8Inj2TfIcRkbfExhIkMAU1z2EC/EH7cDyB9tgr7Yf+I2T9NghQqZTomWVF4zg2/XJOaMReNLPAcW7ZenxKpziLpd7HGGR4Z3fJJsV7xdYYjxMn8q5m6uhjormDoP5r2hXsHQKQFy8cRszUr6kMX1ToYMp5ryxP0vBOZONjvC0+E4INdg6729PnK/0G8f1aP/EAC4RAAAFBAIBAgQGAwAAAAAAAAMEBQYHAAECNhAVNRdQEhQgNBETFjIzoCEiMP/aAAgBAwEBBQD+rOGRNDYjFxi96BKmDFhCJsHGgyJobHrD1dYeq6aetxZOO5W6w9XWHq6w9QwApfIEoYMW6w9XWHq6w9QgeYWQRMyPiMVMF7chEzI+IxQwXta18r9aeoUEUDKgSo5isk47jb25k67I6T2aDUR+Ke2u0x9c5Uvvvol776Lde5lDYo41iVfAcxxrEoa6EJmCIhqmCymysj/NJtM5F6FGkJa6dE9uZWuiB4DYLabmjqUR+Keuu0x9cfjmONkn6sL1erC9QwuQ4lpXXrWYLuPui5wa5Yt6sL1OJzHXMNF2vOxYHQUfGWV21erS5S6uGXCdjnWJV8BzHOsShrtRKsfGEoEglEozWyKactSQt9qte3MrXalpJ/JNxH4p667TH1yXfG/RD38ir4/iLtekjWOY51iVfAcxzrEoa7TYV7oava9srFkwqTNOZYxQUnLLLPL25la7T2Se4Qoj8U9ddpj64tt8g4QfTJt1IjZTm5nxD38ir4/iLtePp5VUL/oJtU/mmipKJUc6xK3gOY51iUNd4j9Y7dCqV1v5g37eytdcatdIHpnpPSiPXXaY+uLjhIN0HGTm5epEcyc48+Iet/uqW/EhxF2vLKuXQyPqwg0838luBJqOdYlbwPMc6xKGu8RKnCl0+nwTGJuH29la7Lf+ElsqvdI/w2td667TH1yXfG/RDv7lP7HiLtekjWOY51iVvA8xzrEoa7REmKoGk0gElk6lpH/NL+3srXZc8REat8QdPXXaY+uSSin1oiHHLmEoOLHAJQwWQAtQ7+5T+x4i7XpH1jmOdYejfHcqZnE69jWcYOPGjRcUmPHOsShrtRSifMnc8sQ8WW7v1IYWE0NYTxwRC4vtzK12XPENBW6Zbp667TH1zlS++qJDRctkqLaXYlxG60mEUJ/LiUcbvMdGgMG1jljlbhzecjnWJQ13HG+V2sjWQUiSlvq0ZlrHSrlScj9cte3Mq9rNyWDpYZNpLlJLLpzjkworJtEX8uppMV/OUahHWvC0IrqI3/W1743DPGgqDX1cKhBMxs0t5LiMXV3qsLhRIPYJh8GYC2VPBzZOdQpoOokqJUiJWKug+3ZDi5YewBjChW/qz//EAEQRAAEBBAMJDwMCBAcAAAAAAAECAAMEERAhchIiMVFxgYKxwQUgMjNBUGFzkZKhsrPC0RNC0hQjYoOgojA0Q1JT0/D/2gAIAQMBBj8A/pZ7t06UoYwkkamAfIKZ4wRroJcuyqWIE6mK3jpQA5SkgaqLt06UoYwkkam4hfdPw3EL7p+GmXC+6fiiYcKlZPw3EL7p+G4hfdPw3EL7p+GuXyCk9II1tdOXalDoBOpuIX3T8NxC+6fhuIX3T8MUPEkEchqLXbp0pQxgE6mBfOykHGCNe8u3TpShjAJ1NdPnakjpBGtpDC3EL7p+GuHqSk4iJa6D9F2VSxAnUxUpyoAfwn45vg7G0s8eIE1ub8ZBwv7ZnMKIjrPaloyxtFEHZ2neP7atZ3sJYOthbVs3i7CdTQun6imT1idSt5C6fqKZVtOtkvXZkpJBBxEYGcR6PvSCeg4FDMZhne6TsXzkyNlVXgqXaaHMKoSWRdLtKwjMJJzM8S7Mnj68Tn4RzJnnI5vg7G0sp28E0kSI6Cz+AX/pqIHSOQ5xItEdZ7UtGWNoog7O0s5fwSUlS1SN0CRKRPIQ3Fuu6r824t13Vfmynq8KiScpraVw67qvzaJTGpSPp3MrkEcK6nOZOJnr9ImUpJ7BNuLdd1X5s7fRoSCgSFyCOWfKSwtq2M+3QhkgrTcynOVagK5EHlxtW6dHRV+bcS67q/8AsYx0WEhRAEkggVZST4tC6fqKZPWJ1K3kLp+oplW066H+5Lw1pv05DUoZjI5yz2DfcF4kpOcS8G/SRSb2HJK8U0mQGdUsonQqHdmbtxei19x7atHm+DsbTQ43UQKnguVWk4O0VaLRHWe1LRljaKIOztLQ1s+U72OyO/e0RYV5TSLatjROVHnTvIXT9RTJ6xOpW8hdP1FMq2nXQ4jZ3oMlWTUrwMx0gNMYGfxjlMlviCo47kSH/sZLP477gJJ6VGpPjWegFitRmTzfB2NpofuEia0i7TlTX4iYztEdZ7UtGWNoog7O0slxHpJSkzEiRXKXI3FK75aFG56SPqBc5knBcyw5TTHZHfvaIsK8ppFtWxlQkYi7dqlMHoMxgrwhv8mO1X5MqKgocIWFJEwVcprwkiiF0/UUyesTqVvIXT9RTKtp10urszW6vFZuCc6ZZ50OtyHRvXd8q0RUMya9LnCDsbS0A9UZIW9CFZFJUK8hkc1G6EGBJIezTZUlJHZOWZoyxtFEHZ2lkv49RAUZCQmZym1a1DQLQp3PUSHYVOYlwrmWHJTHHod+9ogfwK8ppFtWxl7oRQJQiU5CZrIAlWOU424t73U/myoGEQsLKkm+AAkMijqohdP1FMjrE+VW8hdP1FMq2nXS/jl8F6oBI6ETmc5JGaiLS+rulXQPQqsdmDNzhB2NpaHI/wCQeVTQ8aTNSk31oVK8QWmBW0ZY2iiDs7S0NbPlO9j/AOX72f2FajSLatjROVHnTvIXT9RTI6xPlVvIXT9RTKtp10O4RwJrWQkZSZM6gnHBdpAGblynCemhzus7FaDcKyGtJzGY0ucIOxtLQ/We1TRG5Szgv05DIK9vaaIyxtFEHZ2lnDrc90VqSuZAlgkcZDVw0sq0fkWvrhOVXwCynS8KSQc1VEf/AC/ez+wrUaRbVsaJ0PUTvIXT9RTCChlhKgoKvpyqBHIDjxNU8dHSVtQGqQk5FjbJnkM/EloJSRiIMiO1oXT9RTKtp10PN1novXV6m0oV9ifMGK1mQGFo10v7VTR1ZqHZKZ6VM+gHmB4kjIeQ5jI5mW5eiSkkgjERUeb4OxtLQ/We1TQ8UoyTO5VZVUeyc81EZY2iiDs7TvH9tWs0R313gTP6cpkDBd42fj9U7ncq+9OI9NIcxUU7dru1VKWlJ5OQkNEOIaKdrWbiQStJJktJNQJOAbyGQp4AoXdUxPhq5GmkzpjuteectC6fqKZVtOtglImSziClfATVaNZ7MA6AGMM7Mnj+9Fn7j2XukziIUZIUbhVlVXgZKzUfq0CSH4utIVK2Kz83wZP+zaWcOXb1Klh5OQIJlcqrlnocojErU+SkBUgDMiqcyoYcLPoCHhlD6glNRAlmE9dDuBhXgShAkL0E+M2vosjIlI1JDX0a8zLUNRDfuxK1ZVqO3/FmG/beqGRRG1v24x4Mi1Daynr1RUpRmSayScJJ5SWTCQT+5dichcpOEzOEE4elv0UasFEwakgGrIzmNeO/qB2bq5nKZGCuRwGRwcjfvwahkWDrCW/UpSUu0iSQcIGEk9JPhIclDn679IfJFyoFQBmKpyOG6Fcxjky37qtTm/EsQ4X9teYc3h0VkpGATMuzmEh2oieGRlP+lo//2Q==)\n",
        "##### **Team Member 1 - Gautam Verma**\n"
      ],
      "metadata": {
        "id": "beRrZCGUAJYm"
      }
    },
    {
      "cell_type": "markdown",
      "source": [
        "# **Project Summary -**"
      ],
      "metadata": {
        "id": "FJNUwmbgGyua"
      }
    },
    {
      "cell_type": "markdown",
      "source": [
        "Write the summary here within 500-600 words."
      ],
      "metadata": {
        "id": "F6v_1wHtG2nS"
      }
    },
    {
      "cell_type": "markdown",
      "source": [
        "# **GitHub Link -**"
      ],
      "metadata": {
        "id": "w6K7xa23Elo4"
      }
    },
    {
      "cell_type": "markdown",
      "source": [
        "Provide your GitHub Link here."
      ],
      "metadata": {
        "id": "h1o69JH3Eqqn"
      }
    },
    {
      "cell_type": "markdown",
      "source": [
        "# **Problem Statement**\n"
      ],
      "metadata": {
        "id": "yQaldy8SH6Dl"
      }
    },
    {
      "cell_type": "markdown",
      "source": [
        "**Write Problem Statement Here.**"
      ],
      "metadata": {
        "id": "DpeJGUA3kjGy"
      }
    },
    {
      "cell_type": "markdown",
      "source": [
        "# **General Guidelines** : -  "
      ],
      "metadata": {
        "id": "mDgbUHAGgjLW"
      }
    },
    {
      "cell_type": "markdown",
      "source": [
        "1.   Well-structured, formatted, and commented code is required.\n",
        "2.   Exception Handling, Production Grade Code & Deployment Ready Code will be a plus. Those students will be awarded some additional credits.\n",
        "     \n",
        "     The additional credits will have advantages over other students during Star Student selection.\n",
        "       \n",
        "             [ Note: - Deployment Ready Code is defined as, the whole .ipynb notebook should be executable in one go\n",
        "                       without a single error logged. ]\n",
        "\n",
        "3.   Each and every logic should have proper comments.\n",
        "4. You may add as many number of charts you want. Make Sure for each and every chart the following format should be answered.\n",
        "        \n",
        "\n",
        "```\n",
        "# Chart visualization code\n",
        "```\n",
        "            \n",
        "\n",
        "*   Why did you pick the specific chart?\n",
        "*   What is/are the insight(s) found from the chart?\n",
        "* Will the gained insights help creating a positive business impact?\n",
        "Are there any insights that lead to negative growth? Justify with specific reason.\n",
        "\n",
        "5. You have to create at least 15 logical & meaningful charts having important insights.\n",
        "\n",
        "\n",
        "[ Hints : - Do the Vizualization in  a structured way while following \"UBM\" Rule.\n",
        "\n",
        "U - Univariate Analysis,\n",
        "\n",
        "B - Bivariate Analysis (Numerical - Categorical, Numerical - Numerical, Categorical - Categorical)\n",
        "\n",
        "M - Multivariate Analysis\n",
        " ]\n",
        "\n",
        "\n",
        "\n",
        "\n",
        "\n",
        "6. You may add more ml algorithms for model creation. Make sure for each and every algorithm, the following format should be answered.\n",
        "\n",
        "\n",
        "*   Explain the ML Model used and it's performance using Evaluation metric Score Chart.\n",
        "\n",
        "\n",
        "*   Cross- Validation & Hyperparameter Tuning\n",
        "\n",
        "*   Have you seen any improvement? Note down the improvement with updates Evaluation metric Score Chart.\n",
        "\n",
        "*   Explain each evaluation metric's indication towards business and the business impact pf the ML model used.\n",
        "\n",
        "\n",
        "\n",
        "\n",
        "\n",
        "\n",
        "\n",
        "\n",
        "\n",
        "\n",
        "\n",
        "\n",
        "\n",
        "\n",
        "\n",
        "\n",
        "\n",
        "\n"
      ],
      "metadata": {
        "id": "ZrxVaUj-hHfC"
      }
    },
    {
      "cell_type": "markdown",
      "source": [
        "# ***Let's Begin !***"
      ],
      "metadata": {
        "id": "O_i_v8NEhb9l"
      }
    },
    {
      "cell_type": "markdown",
      "source": [
        "## ***1. Know Your Data***"
      ],
      "metadata": {
        "id": "HhfV-JJviCcP"
      }
    },
    {
      "cell_type": "markdown",
      "source": [
        "### Import Libraries"
      ],
      "metadata": {
        "id": "Y3lxredqlCYt"
      }
    },
    {
      "cell_type": "code",
      "source": [
        "# Import Libraries\n",
        "\n",
        "import numpy as np\n",
        "import pandas as pd\n",
        "from numpy import math\n",
        "import seaborn as sns\n",
        "import matplotlib.pyplot as plt\n",
        "import matplotlib.ticker as mtick\n",
        "from matplotlib.pyplot import figure\n",
        "import plotly.graph_objects as go\n",
        "import plotly.offline as py\n",
        "import plotly.express as px\n",
        "from datetime import datetime\n",
        "\n",
        "from plotly.subplots import make_subplots\n",
        "from plotly.offline import init_notebook_mode, iplot\n",
        "import plotly.io as pio\n",
        "\n",
        "from collections import Counter\n",
        "from sklearn import preprocessing\n",
        "from sklearn.feature_extraction.text import TfidfVectorizer\n",
        "from sklearn.model_selection import train_test_split, KFold\n",
        "from nltk.corpus import stopwords\n",
        "from nltk.stem.snowball import SnowballStemmer\n",
        "from sklearn.decomposition import PCA\n",
        "\n",
        "import warnings\n",
        "warnings.filterwarnings('ignore')\n",
        "\n",
        "\n",
        "\n",
        "\n",
        "\n",
        "\n"
      ],
      "metadata": {
        "id": "M8Vqi-pPk-HR"
      },
      "execution_count": null,
      "outputs": []
    },
    {
      "cell_type": "markdown",
      "source": [
        "### Dataset Loading"
      ],
      "metadata": {
        "id": "3RnN4peoiCZX"
      }
    },
    {
      "cell_type": "code",
      "source": [
        "# Load Dataset\n",
        "from google.colab import drive\n",
        "drive.mount('/content/drive/')"
      ],
      "metadata": {
        "id": "4CkvbW_SlZ_R"
      },
      "execution_count": null,
      "outputs": []
    },
    {
      "cell_type": "code",
      "source": [
        "df=pd.read_csv('/content/drive/MyDrive/NETFLIX MOVIES AND TV SHOWS CLUSTERING (1).csv')"
      ],
      "metadata": {
        "id": "oKTS5LcERmTa"
      },
      "execution_count": null,
      "outputs": []
    },
    {
      "cell_type": "markdown",
      "source": [
        "### Dataset First View"
      ],
      "metadata": {
        "id": "x71ZqKXriCWQ"
      }
    },
    {
      "cell_type": "code",
      "source": [
        "# Dataset First Look\n",
        "df.head(3)"
      ],
      "metadata": {
        "id": "LWNFOSvLl09H"
      },
      "execution_count": null,
      "outputs": []
    },
    {
      "cell_type": "markdown",
      "source": [
        "### Dataset Rows & Columns count"
      ],
      "metadata": {
        "id": "7hBIi_osiCS2"
      }
    },
    {
      "cell_type": "code",
      "source": [
        "# Dataset Rows & Columns count\n",
        "df.shape\n"
      ],
      "metadata": {
        "id": "Kllu7SJgmLij"
      },
      "execution_count": null,
      "outputs": []
    },
    {
      "cell_type": "code",
      "source": [
        "df.columns"
      ],
      "metadata": {
        "id": "2febrjZ-Sdjv"
      },
      "execution_count": null,
      "outputs": []
    },
    {
      "cell_type": "markdown",
      "source": [
        "### Dataset Information"
      ],
      "metadata": {
        "id": "JlHwYmJAmNHm"
      }
    },
    {
      "cell_type": "code",
      "source": [
        "# Dataset Info\n",
        "df.info()"
      ],
      "metadata": {
        "id": "e9hRXRi6meOf"
      },
      "execution_count": null,
      "outputs": []
    },
    {
      "cell_type": "markdown",
      "source": [
        "#### Duplicate Values"
      ],
      "metadata": {
        "id": "35m5QtbWiB9F"
      }
    },
    {
      "cell_type": "code",
      "source": [
        "# Dataset Duplicate Value Count\n",
        "df.duplicated().sum()"
      ],
      "metadata": {
        "id": "1sLdpKYkmox0"
      },
      "execution_count": null,
      "outputs": []
    },
    {
      "cell_type": "markdown",
      "source": [
        "#### Missing Values/Null Values"
      ],
      "metadata": {
        "id": "PoPl-ycgm1ru"
      }
    },
    {
      "cell_type": "code",
      "source": [
        "# Missing Values/Null Values Count\n",
        "df.isnull().sum()"
      ],
      "metadata": {
        "id": "GgHWkxvamxVg"
      },
      "execution_count": null,
      "outputs": []
    },
    {
      "cell_type": "code",
      "source": [
        "# Visualizing the missing values\n",
        "plt.plot(df.isnull().sum())\n"
      ],
      "metadata": {
        "id": "3q5wnI3om9sJ"
      },
      "execution_count": null,
      "outputs": []
    },
    {
      "cell_type": "code",
      "source": [
        "#Handling Missing values\n",
        "df['cast'].fillna(value='No cast',inplace=True)\n",
        "df['country'].fillna(value=df['country'].mode()[0],inplace=True)"
      ],
      "metadata": {
        "id": "M73rUwy4Taq7"
      },
      "execution_count": null,
      "outputs": []
    },
    {
      "cell_type": "code",
      "source": [
        "df.isnull().sum()"
      ],
      "metadata": {
        "id": "4SvaqO-eTpRs"
      },
      "execution_count": null,
      "outputs": []
    },
    {
      "cell_type": "markdown",
      "source": [
        "### What did you know about your dataset?"
      ],
      "metadata": {
        "id": "H0kj-8xxnORC"
      }
    },
    {
      "cell_type": "markdown",
      "source": [
        "\n",
        " #### This dataset provides a comprehensive overview of the shows and movies available on Netflix, including their basic identifiers, types, titles, directors, cast members, production countries, addition dates, release years, ratings, durations, genres, and descriptions. This data can be used for various analyses, such as exploring content trends, understanding genre distributions, and studying the diversity of content on the platform. it contains 7787 rows and 12 columns\n",
        "\n",
        "\n",
        "\n"
      ],
      "metadata": {
        "id": "gfoNAAC-nUe_"
      }
    },
    {
      "cell_type": "markdown",
      "source": [
        "## ***2. Understanding Your Variables***"
      ],
      "metadata": {
        "id": "nA9Y7ga8ng1Z"
      }
    },
    {
      "cell_type": "code",
      "source": [
        "# Dataset Columns\n",
        "df.columns"
      ],
      "metadata": {
        "id": "j7xfkqrt5Ag5"
      },
      "execution_count": null,
      "outputs": []
    },
    {
      "cell_type": "code",
      "source": [
        "# Dataset Describe\n",
        "df.describe(include='all')"
      ],
      "metadata": {
        "id": "DnOaZdaE5Q5t"
      },
      "execution_count": null,
      "outputs": []
    },
    {
      "cell_type": "markdown",
      "source": [
        "### Variables Description"
      ],
      "metadata": {
        "id": "PBTbrJXOngz2"
      }
    },
    {
      "cell_type": "markdown",
      "source": [
        "Answer Here\n",
        "\n",
        "**show_id**: A unique identifier for each show or movie in the dataset. It ensures that each entry can be uniquely referenced.\n",
        "\n",
        "**type**: Indicates whether the entry is a \"Movie\" or a \"TV Show.\" This helps distinguish between different formats of content.\n",
        "\n",
        "**title**: The title of the show or movie. It helps in identifying and referencing the content.\n",
        "\n",
        "**director**: Lists the directors of the shows or movies. This provides information about who directed the content.\n",
        "\n",
        "**cast**: Lists the main cast members of the shows or movies. It provides insight into the actors and actresses featured in the content.\n",
        "\n",
        "**country**: Specifies the country or countries where the show or movie was produced. This can be used to analyze the geographical diversity of the content.\n",
        "\n",
        "**date_added**: Indicates the date when the show or movie was added to Netflix. This can be useful for analyzing content trends over time.\n",
        "\n",
        "**release_year**: Contains the year when the show or movie was released. This helps in understanding the age of the content available on Netflix.\n",
        "\n",
        "**rating**: Provides the content rating (e.g., PG, R) of the shows or movies. This information is crucial for understanding the target audience and content restrictions.\n",
        "\n",
        "**duration**: Indicates the length of the movies or the number of seasons for TV shows. This helps in understanding the content's runtime.\n",
        "\n",
        "**listed_in**: Lists the genres or categories that the show or movie belongs to. It is useful for categorizing and analyzing content by genre.\n",
        "\n",
        "**description**: Contains a brief description or synopsis of the show or movie. It provides a quick overview of the content's plot or theme."
      ],
      "metadata": {
        "id": "aJV4KIxSnxay"
      }
    },
    {
      "cell_type": "markdown",
      "source": [
        "### Check Unique Values for each variable."
      ],
      "metadata": {
        "id": "u3PMJOP6ngxN"
      }
    },
    {
      "cell_type": "code",
      "source": [
        "# Check Unique Values for each variable.\n",
        "print(df.apply(lambda col: col.unique()))"
      ],
      "metadata": {
        "id": "zms12Yq5n-jE"
      },
      "execution_count": null,
      "outputs": []
    },
    {
      "cell_type": "markdown",
      "source": [
        "## 3. ***Data Wrangling***"
      ],
      "metadata": {
        "id": "dauF4eBmngu3"
      }
    },
    {
      "cell_type": "markdown",
      "source": [
        "### Data Wrangling Code"
      ],
      "metadata": {
        "id": "bKJF3rekwFvQ"
      }
    },
    {
      "cell_type": "code",
      "source": [
        "# Write your code to make your dataset analysis ready.\n",
        "df['date_added'] = df['date_added'].str.strip()\n",
        "df['date_added']=pd.to_datetime(df['date_added']) #coverting date_added column into datetime format\n",
        "df['day_added']=df['date_added'].dt.day\n",
        "df['year_added']=df['date_added'].dt.year\n",
        "df['month_added']=df['date_added'].dt.month\n"
      ],
      "metadata": {
        "id": "wk-9a2fpoLcV"
      },
      "execution_count": null,
      "outputs": []
    },
    {
      "cell_type": "code",
      "source": [
        "df.head()"
      ],
      "metadata": {
        "id": "JBEwikd6afHC"
      },
      "execution_count": null,
      "outputs": []
    },
    {
      "cell_type": "markdown",
      "source": [
        "### What all manipulations have you done and insights you found?"
      ],
      "metadata": {
        "id": "MSa1f5Uengrz"
      }
    },
    {
      "cell_type": "markdown",
      "source": [
        "**Data Manipulations**:\n",
        "\n",
        "Stripped leading/trailing spaces from date_added.\n",
        "\n",
        "Converted date_added to datetime format.\n",
        "\n",
        "Extracted day, month, and year from date_added.\n",
        "\n",
        "**Insights**:\n",
        "\n",
        "Improved date consistency.\n",
        "\n",
        "Enabled time-based trend analysis.\n",
        "\n",
        "Identified and managed problematic date entries."
      ],
      "metadata": {
        "id": "LbyXE7I1olp8"
      }
    },
    {
      "cell_type": "markdown",
      "source": [
        "## ***4. Data Vizualization, Storytelling & Experimenting with charts : Understand the relationships between variables***"
      ],
      "metadata": {
        "id": "GF8Ens_Soomf"
      }
    },
    {
      "cell_type": "markdown",
      "source": [
        "#### Chart - 1"
      ],
      "metadata": {
        "id": "0wOQAZs5pc--"
      }
    },
    {
      "cell_type": "code",
      "source": [
        "# Chart - 1 visualization code\n",
        "type_counts = df['type'].value_counts().reset_index()\n",
        "type_counts.columns = ['type', 'count']\n",
        "\n",
        "# Creating the donut chart\n",
        "fig = px.pie(type_counts, names='type', values='count', hole=0.5,\n",
        "             title='Type of Content Watched on Netflix',\n",
        "             color_discrete_sequence=['red', 'black'])  # Black background\n",
        "\n",
        "# Display the chart\n",
        "fig.show()"
      ],
      "metadata": {
        "id": "7v_ESjsspbW7"
      },
      "execution_count": null,
      "outputs": []
    },
    {
      "cell_type": "markdown",
      "source": [
        "##### 1. Why did you pick the specific chart?"
      ],
      "metadata": {
        "id": "K5QZ13OEpz2H"
      }
    },
    {
      "cell_type": "markdown",
      "source": [
        "I chose the donut chart because it effectively displays the proportional distribution of different content types on Netflix. The chart's clear segmentation and central hole make it visually appealing and easy to interpret, highlighting the relative popularity of each content type at a glance."
      ],
      "metadata": {
        "id": "XESiWehPqBRc"
      }
    },
    {
      "cell_type": "markdown",
      "source": [
        "##### 2. What is/are the insight(s) found from the chart?"
      ],
      "metadata": {
        "id": "lQ7QKXXCp7Bj"
      }
    },
    {
      "cell_type": "markdown",
      "source": [
        "The chart reveals that a significant majority, 69.1%, of Netflix viewers prefer watching movies, while 30.9% favor TV shows. This insight highlights movies as the dominant content type on the platform, suggesting potential opportunities for Netflix to focus on expanding its movie library to cater to viewer preferences."
      ],
      "metadata": {
        "id": "C_j1G7yiqdRP"
      }
    },
    {
      "cell_type": "markdown",
      "source": [
        "##### 3. Will the gained insights help creating a positive business impact?\n",
        "Are there any insights that lead to negative growth? Justify with specific reason."
      ],
      "metadata": {
        "id": "448CDAPjqfQr"
      }
    },
    {
      "cell_type": "markdown",
      "source": [
        "Yes, the gained insights can positively impact the business. Understanding that 69.1% of viewers prefer movies while 30.9% prefer TV shows allows Netflix to tailor its content strategy. By investing more in popular movie genres and improving the movie library, Netflix can enhance user satisfaction, retain subscribers, and attract new customers, ultimately driving growth and revenue.\n",
        "\n",
        "\n",
        "\n",
        "\n",
        "\n",
        "\n",
        "\n"
      ],
      "metadata": {
        "id": "3cspy4FjqxJW"
      }
    },
    {
      "cell_type": "markdown",
      "source": [
        "#### Chart - 2"
      ],
      "metadata": {
        "id": "KSlN3yHqYklG"
      }
    },
    {
      "cell_type": "code",
      "source": [
        "# Chart - 2 visualization code\n",
        "movies_df = df[df['type'] == 'Movie']\n",
        "tv_shows_df = df[df['type'] == 'TV Show']\n",
        "\n",
        "# Grouping by 'year_added' to count the number of movies and TV shows added each year\n",
        "movies_by_year = movies_df['year_added'].value_counts().reset_index()\n",
        "tv_shows_by_year = tv_shows_df['year_added'].value_counts().reset_index()\n",
        "\n",
        "# Renaming columns\n",
        "movies_by_year.columns = ['year_added', 'movies_count']\n",
        "tv_shows_by_year.columns = ['year_added', 'tv_shows_count']\n",
        "\n",
        "# Merging dataframes\n",
        "content_by_year = pd.merge(movies_by_year, tv_shows_by_year, on='year_added', how='outer').fillna(0)\n",
        "\n",
        "# Sorting by year_added\n",
        "content_by_year = content_by_year.sort_values('year_added')\n",
        "\n",
        "# Creating the line plot\n",
        "fig = px.line(content_by_year, x='year_added', y=['movies_count', 'tv_shows_count'],\n",
        "              title='Content Added Over the Years',\n",
        "              labels={'year_added': 'Year', 'value': 'Number of Content Added'},\n",
        "              color_discrete_map={'movies_count': 'red', 'tv_shows_count': 'white'},\n",
        "              template='plotly_dark',  # Black background\n",
        "              markers=True  # Show markers\n",
        "              )\n",
        "\n",
        "# Displaying the plot\n",
        "fig.show()"
      ],
      "metadata": {
        "id": "R4YgtaqtYklH"
      },
      "execution_count": null,
      "outputs": []
    },
    {
      "cell_type": "markdown",
      "source": [
        "##### 1. Why did you pick the specific chart?"
      ],
      "metadata": {
        "id": "t6dVpIINYklI"
      }
    },
    {
      "cell_type": "markdown",
      "source": [
        "I chose a line plot to visualize content added over the years because it effectively displays trends and patterns in data over time. The line plot allows for easy comparison between different types of content (movies and TV shows) added each year, facilitating clear insights into temporal changes in Netflix's content offerings."
      ],
      "metadata": {
        "id": "5aaW0BYyYklI"
      }
    },
    {
      "cell_type": "markdown",
      "source": [
        "##### 2. What is/are the insight(s) found from the chart?"
      ],
      "metadata": {
        "id": "ijmpgYnKYklI"
      }
    },
    {
      "cell_type": "markdown",
      "source": [
        "The insight from the chart reveals that the peak year for movie additions was 2019, with 1497 movies added, while for TV shows, the highest number was added in 2020, totaling 697. These peaks indicate significant content expansions in those respective years, potentially reflecting strategic shifts in Netflix's programming focus."
      ],
      "metadata": {
        "id": "PSx9atu2YklI"
      }
    },
    {
      "cell_type": "markdown",
      "source": [
        "##### 3. Will the gained insights help creating a positive business impact?\n",
        "Are there any insights that lead to negative growth? Justify with specific reason."
      ],
      "metadata": {
        "id": "-JiQyfWJYklI"
      }
    },
    {
      "cell_type": "markdown",
      "source": [
        "Answer Here"
      ],
      "metadata": {
        "id": "BcBbebzrYklV"
      }
    },
    {
      "cell_type": "markdown",
      "source": [
        "#### Chart - 3"
      ],
      "metadata": {
        "id": "EM7whBJCYoAo"
      }
    },
    {
      "cell_type": "code",
      "source": [
        "movies_df = df[df['type'] == 'Movie']\n",
        "tv_shows_df = df[df['type'] == 'TV Show']\n",
        "\n",
        "# Grouping by 'month_added' to count the number of movies and TV shows added each month\n",
        "movies_by_month = movies_df['month_added'].value_counts().reset_index()\n",
        "tv_shows_by_month = tv_shows_df['month_added'].value_counts().reset_index()\n",
        "\n",
        "# Renaming columns\n",
        "movies_by_month.columns = ['month_added', 'movies_count']\n",
        "tv_shows_by_month.columns = ['month_added', 'tv_shows_count']\n",
        "\n",
        "# Merging dataframes\n",
        "content_by_month = pd.merge(movies_by_month, tv_shows_by_month, on='month_added', how='outer').fillna(0)\n",
        "\n",
        "# Sorting by month_added\n",
        "content_by_month = content_by_month.sort_values('month_added')\n",
        "\n",
        "# Creating the bar chart\n",
        "fig = px.bar(content_by_month, x='month_added', y=['movies_count', 'tv_shows_count'],\n",
        "             title='Month-wise Addition of Movies and TV Shows on Netflix',\n",
        "             labels={'month_added': 'Month', 'value': 'Number of Content Added'},\n",
        "             color_discrete_map={'movies_count': 'red', 'tv_shows_count': 'brown'},  # Red and reddish brown\n",
        "             template='plotly_dark')  # Black background\n",
        "\n",
        "# Displaying the plot\n",
        "fig.show()"
      ],
      "metadata": {
        "id": "t6GMdE67YoAp"
      },
      "execution_count": null,
      "outputs": []
    },
    {
      "cell_type": "markdown",
      "source": [
        "##### 1. Why did you pick the specific chart?"
      ],
      "metadata": {
        "id": "fge-S5ZAYoAp"
      }
    },
    {
      "cell_type": "markdown",
      "source": [
        "I chose a bar chart to visualize the month-wise addition of movies and TV shows on Netflix because it effectively displays comparisons between different categories (movies and TV shows) across multiple months. The bars provide a clear visual representation of the quantity of content added each month, facilitating easy interpretation of trends and patterns over time."
      ],
      "metadata": {
        "id": "5dBItgRVYoAp"
      }
    },
    {
      "cell_type": "markdown",
      "source": [
        "##### 2. What is/are the insight(s) found from the chart?"
      ],
      "metadata": {
        "id": "85gYPyotYoAp"
      }
    },
    {
      "cell_type": "markdown",
      "source": [
        "The insight from the chart reveals that the least number of movies and TV shows were added in the 2nd month, while the most number of movies and shows were added in the 12th month. This pattern suggests potential seasonality in content additions, with a peak towards the end of the year, possibly coinciding with holiday seasons or strategic content releases."
      ],
      "metadata": {
        "id": "4jstXR6OYoAp"
      }
    },
    {
      "cell_type": "markdown",
      "source": [
        "##### 3. Will the gained insights help creating a positive business impact?\n",
        "Are there any insights that lead to negative growth? Justify with specific reason."
      ],
      "metadata": {
        "id": "RoGjAbkUYoAp"
      }
    },
    {
      "cell_type": "markdown",
      "source": [
        "Answer Here"
      ],
      "metadata": {
        "id": "zfJ8IqMcYoAp"
      }
    },
    {
      "cell_type": "markdown",
      "source": [
        "#### Chart - 4"
      ],
      "metadata": {
        "id": "4Of9eVA-YrdM"
      }
    },
    {
      "cell_type": "code",
      "source": [
        "# Chart - 4 visualization code\n",
        "movies_df = df[df['type'] == 'Movie']\n",
        "tv_shows_df = df[df['type'] == 'TV Show']\n",
        "\n",
        "# Concatenate the dataframes\n",
        "combined_df = pd.concat([movies_df, tv_shows_df])\n",
        "\n",
        "# Set the background color\n",
        "sns.set_style('darkgrid')  # Black background\n",
        "\n",
        "# Create the countplot\n",
        "plt.figure(figsize=(10, 6))\n",
        "sns.countplot(data=combined_df, x='month_added', hue='type', palette={'Movie': 'red', 'TV Show': 'black'})\n",
        "\n",
        "# Set labels and title\n",
        "plt.xlabel('Month')\n",
        "plt.ylabel('Number of Content Added')\n",
        "plt.title('Content Added Over the Months (Movies vs TV Shows)')\n",
        "\n",
        "# Show the plot\n",
        "plt.legend(title='Type')\n",
        "plt.show()"
      ],
      "metadata": {
        "id": "irlUoxc8YrdO"
      },
      "execution_count": null,
      "outputs": []
    },
    {
      "cell_type": "markdown",
      "source": [
        "##### 1. Why did you pick the specific chart?"
      ],
      "metadata": {
        "id": "iky9q4vBYrdO"
      }
    },
    {
      "cell_type": "markdown",
      "source": [
        "Answer Here."
      ],
      "metadata": {
        "id": "aJRCwT6DYrdO"
      }
    },
    {
      "cell_type": "markdown",
      "source": [
        "##### 2. What is/are the insight(s) found from the chart?"
      ],
      "metadata": {
        "id": "F6T5p64dYrdO"
      }
    },
    {
      "cell_type": "markdown",
      "source": [
        "Answer Here"
      ],
      "metadata": {
        "id": "Xx8WAJvtYrdO"
      }
    },
    {
      "cell_type": "markdown",
      "source": [
        "##### 3. Will the gained insights help creating a positive business impact?\n",
        "Are there any insights that lead to negative growth? Justify with specific reason."
      ],
      "metadata": {
        "id": "y-Ehk30pYrdP"
      }
    },
    {
      "cell_type": "markdown",
      "source": [
        "Answer Here"
      ],
      "metadata": {
        "id": "jLNxxz7MYrdP"
      }
    },
    {
      "cell_type": "markdown",
      "source": [
        "#### Chart - 5"
      ],
      "metadata": {
        "id": "bamQiAODYuh1"
      }
    },
    {
      "cell_type": "code",
      "source": [
        "fig = plt.figure(figsize=(10, 7))\n",
        "fig.patch.set_facecolor('black')\n",
        "\n",
        "# Create a subplot with a black background\n",
        "ax = fig.add_subplot(111)\n",
        "ax.set_facecolor('black')\n",
        "\n",
        "# Plot the distribution plot\n",
        "sns.distplot(df['duration'].str.extract('(\\d+)').astype(float), kde=False, color='red', ax=ax)\n",
        "\n",
        "# Set title with white color for better visibility against the black background\n",
        "plt.title('Distplot with Normal Distribution for movies and TV shows', fontweight='bold', color='white')\n",
        "\n",
        "# Show the plot\n",
        "plt.show()"
      ],
      "metadata": {
        "id": "TIJwrbroYuh3"
      },
      "execution_count": null,
      "outputs": []
    },
    {
      "cell_type": "markdown",
      "source": [
        "##### 1. Why did you pick the specific chart?"
      ],
      "metadata": {
        "id": "QHF8YVU7Yuh3"
      }
    },
    {
      "cell_type": "markdown",
      "source": [
        "The Distplot is suitable choice for this analysis because it allows us to observe the frequency or count of movies falling into different duration ranges."
      ],
      "metadata": {
        "id": "dcxuIMRPYuh3"
      }
    },
    {
      "cell_type": "markdown",
      "source": [
        "##### 2. What is/are the insight(s) found from the chart?"
      ],
      "metadata": {
        "id": "GwzvFGzlYuh3"
      }
    },
    {
      "cell_type": "markdown",
      "source": [
        "The average length of the movies and tv shows are within the range of 50 to 150 minutes and can vary depending on the specific content available"
      ],
      "metadata": {
        "id": "uyqkiB8YYuh3"
      }
    },
    {
      "cell_type": "markdown",
      "source": [
        "##### 3. Will the gained insights help creating a positive business impact?\n",
        "Are there any insights that lead to negative growth? Justify with specific reason."
      ],
      "metadata": {
        "id": "qYpmQ266Yuh3"
      }
    },
    {
      "cell_type": "markdown",
      "source": [
        "Yes, the insights gained from visualizing the distribution of movie and TV show durations can indeed have a positive business impact. Understanding the average length of content and its variability can inform various aspects of content creation, distribution, and marketing strategies for platforms or production companies.\n",
        "\n",
        "**Content Strategy**: Knowing that the average length falls between 50 to 150 minutes helps in tailoring content creation strategies. For instance, it might prompt creators to focus on producing content within this range to align with audience preferences and attention spans.\n",
        "\n",
        "**Audience Engagement**: Analyzing viewer engagement metrics alongside content duration can provide deeper insights into audience preferences and behavior. Platforms can use this data to refine their content offerings and engagement strategies."
      ],
      "metadata": {
        "id": "_WtzZ_hCYuh4"
      }
    },
    {
      "cell_type": "markdown",
      "source": [
        "#### Chart - 6"
      ],
      "metadata": {
        "id": "OH-pJp9IphqM"
      }
    },
    {
      "cell_type": "code",
      "source": [
        "# Chart - 6 visualization code\n",
        "tv_shows = df[df['type'] == 'TV Show']\n",
        "\n",
        "# Count the number of TV shows for each number of seasons\n",
        "season_counts = tv_shows['duration'].value_counts().sort_index()\n",
        "\n",
        "# Sort the counts by the number of seasons\n",
        "season_counts_sorted = season_counts.sort_index()\n",
        "\n",
        "# Create a figure with a black background\n",
        "fig = plt.figure(figsize=(10, 7))\n",
        "fig.patch.set_facecolor('black')\n",
        "\n",
        "# Create a subplot with a black background\n",
        "ax = fig.add_subplot(111)\n",
        "ax.set_facecolor('black')\n",
        "\n",
        "# Plot the distribution of TV shows by seasons\n",
        "season_counts_sorted.plot(kind='bar', color='red', ax=ax)\n",
        "\n",
        "# Set title and labels with white color for better visibility against the black background\n",
        "plt.title('Distribution of TV Shows by Seasons', fontweight='bold', color='white')\n",
        "plt.xlabel('Number of Seasons', color='white')\n",
        "plt.ylabel('Count', color='white')\n",
        "\n",
        "# Show the plot\n",
        "plt.show()"
      ],
      "metadata": {
        "id": "kuRf4wtuphqN"
      },
      "execution_count": null,
      "outputs": []
    },
    {
      "cell_type": "markdown",
      "source": [
        "##### 1. Why did you pick the specific chart?"
      ],
      "metadata": {
        "id": "bbFf2-_FphqN"
      }
    },
    {
      "cell_type": "markdown",
      "source": [
        "The Chart is Countplot, which is a type of bar chart that shows the frequency or count of each category in a categorical varaible. it seems to be used to display the distribution of TV shows seasons"
      ],
      "metadata": {
        "id": "loh7H2nzphqN"
      }
    },
    {
      "cell_type": "markdown",
      "source": [
        "##### 2. What is/are the insight(s) found from the chart?"
      ],
      "metadata": {
        "id": "_ouA3fa0phqN"
      }
    },
    {
      "cell_type": "markdown",
      "source": [
        "from the chart, we observed that the majority of TV shows or web series have only one season, while the remaining shows have maximum of two, three, four and five seasons."
      ],
      "metadata": {
        "id": "VECbqPI7phqN"
      }
    },
    {
      "cell_type": "markdown",
      "source": [
        "##### 3. Will the gained insights help creating a positive business impact?\n",
        "Are there any insights that lead to negative growth? Justify with specific reason."
      ],
      "metadata": {
        "id": "Seke61FWphqN"
      }
    },
    {
      "cell_type": "markdown",
      "source": [
        "Yes, these insights can lead to a positive business impact. Understanding that the majority of TV shows have only one season informs content creation strategies, potentially reducing production costs while still meeting audience demands. Additionally, recognizing the popularity of shows with up to five seasons guides programming decisions, aiding in audience engagement and retention, ultimately driving viewership and revenue."
      ],
      "metadata": {
        "id": "DW4_bGpfphqN"
      }
    },
    {
      "cell_type": "markdown",
      "source": [
        "#### Chart - 7"
      ],
      "metadata": {
        "id": "PIIx-8_IphqN"
      }
    },
    {
      "cell_type": "code",
      "source": [
        "# Chart - 7 visualization code\n",
        "fig, ax = plt.subplots(1, 2, figsize=(14, 5))\n",
        "\n",
        "# Separating TV show actors from the cast column\n",
        "topShows_actor = df[df['type'] == 'TV Show']['cast'].str.split(', ', expand=True).stack()\n",
        "topShows_actor = topShows_actor[topShows_actor != 'No cast']\n",
        "\n",
        "# Plotting actors who appeared in the highest number of TV shows\n",
        "ax[0].set_facecolor('black')  # Setting black background\n",
        "topShows_actor.value_counts().head(10).plot(kind='barh', ax=ax[0], color='red')\n",
        "ax[0].set_title('Top 10 TV Shows Actors', size=15, color='black')\n",
        "ax[0].set_xlabel('Count', color='white')\n",
        "ax[0].set_ylabel('Actor', color='white')\n",
        "\n",
        "# Separating movie actors from the cast column\n",
        "topMovie_actor = df[df['type'] == 'Movie']['cast'].str.split(', ', expand=True).stack()\n",
        "topMovie_actor = topMovie_actor[topMovie_actor != 'No cast']\n",
        "\n",
        "# Plotting actors who appeared in the highest number of movies\n",
        "ax[1].set_facecolor('black')  # Setting black background\n",
        "topMovie_actor.value_counts().head(10).plot(kind='barh', ax=ax[1], color='white')\n",
        "ax[1].set_title('Top 10 Movie Actors', size=15, color='black')\n",
        "ax[1].set_xlabel('Count', color='white')\n",
        "ax[1].set_ylabel('Actor', color='white')\n",
        "\n",
        "# Adjust layout and show the plot\n",
        "plt.tight_layout(pad=1.2, rect=[0, 0, 0.95, 0.95])\n",
        "plt.show()\n"
      ],
      "metadata": {
        "id": "lqAIGUfyphqO"
      },
      "execution_count": null,
      "outputs": []
    },
    {
      "cell_type": "markdown",
      "source": [
        "##### 1. Why did you pick the specific chart?"
      ],
      "metadata": {
        "id": "t27r6nlMphqO"
      }
    },
    {
      "cell_type": "markdown",
      "source": [
        "I chose bar charts because they effectively compare categorical data, such as the frequency of actors appearing in TV shows and movies. The horizontal orientation allows easy comparison of actor counts, while the color variation highlights the distinction between TV shows and movies.\n",
        "\n",
        "\n",
        "\n",
        "\n",
        "\n",
        "\n",
        "\n"
      ],
      "metadata": {
        "id": "iv6ro40sphqO"
      }
    },
    {
      "cell_type": "markdown",
      "source": [
        "##### 2. What is/are the insight(s) found from the chart?"
      ],
      "metadata": {
        "id": "r2jJGEOYphqO"
      }
    },
    {
      "cell_type": "markdown",
      "source": [
        "In the TV shows category, we can see the actor with highest appearance is Takahiro Sakurai, and in the movies section the actor with highest appearance in Anupam Kher."
      ],
      "metadata": {
        "id": "Po6ZPi4hphqO"
      }
    },
    {
      "cell_type": "markdown",
      "source": [
        "#### Chart - 8"
      ],
      "metadata": {
        "id": "BZR9WyysphqO"
      }
    },
    {
      "cell_type": "code",
      "source": [
        "# Chart - 8 visualization code\n",
        "\n",
        "genres = df['listed_in'].str.split(', ').explode()\n",
        "\n",
        "# Count the occurrences of each genre\n",
        "top_genres = genres.value_counts().head(10)\n",
        "\n",
        "# Create a figure with a black background\n",
        "plt.figure(figsize=(10, 6))\n",
        "plt.gca().set_facecolor('black')\n",
        "\n",
        "# Plot the top 10 genres with shades of red\n",
        "top_genres.plot(kind='barh', color=sns.color_palette(\"Reds_r\", n_colors=10))\n",
        "\n",
        "# Set title and labels with white color for better visibility against the black background\n",
        "plt.title('Top 10 Genres', color='white', fontsize=15)\n",
        "plt.xlabel('Count', color='white')\n",
        "plt.ylabel('Genre', color='white')\n",
        "\n",
        "# Invert the y-axis for better readability\n",
        "plt.gca().invert_yaxis()\n",
        "\n",
        "# Show the plot\n",
        "plt.show()"
      ],
      "metadata": {
        "id": "TdPTWpAVphqO"
      },
      "execution_count": null,
      "outputs": []
    },
    {
      "cell_type": "markdown",
      "source": [
        "#### Chart - 9"
      ],
      "metadata": {
        "id": "YJ55k-q6phqO"
      }
    },
    {
      "cell_type": "code",
      "source": [
        "# Chart - 9 visualization code\n",
        "print(df['release_year'].nunique())\n",
        "print(f'Oldest release year : {df.release_year.min()}')\n",
        "print(f'Latest release year : {df.release_year.max()}')"
      ],
      "metadata": {
        "id": "B2aS4O1ophqO"
      },
      "execution_count": null,
      "outputs": []
    },
    {
      "cell_type": "code",
      "source": [
        "fig, ax = plt.subplots(1, 2, figsize=(15, 6))\n",
        "fig.patch.set_facecolor('black')  # Setting black background for the entire figure\n",
        "\n",
        "# Univariate Analysis\n",
        "hist = sns.distplot(df['release_year'], ax=ax[0], kde=False, color='red')\n",
        "hist.set_title('Distribution by Released Year', size=20, color='white')  # Setting title color to white\n",
        "\n",
        "# Bivariate analysis\n",
        "count = sns.countplot(x='release_year', hue='type', data=df, order=df['release_year'].value_counts().index[0:15], ax=ax[1], palette={'Movie': 'red', 'TV Show': 'brown'})\n",
        "count.set_title('Movies and TV Shows Released in Top 15 Years', size=15, color='white')  # Setting title color to white\n",
        "count.set_facecolor('black')\n",
        "count.legend(title='Type', facecolor='black')\n",
        "plt.xticks(rotation=90, color='white')\n",
        "\n",
        "\n",
        "# Set background color for the individual plots\n",
        "ax[0].set_facecolor('black')\n",
        "ax[1].set_facecolor('black')\n",
        "\n",
        "# Show the plot\n",
        "plt.tight_layout()\n",
        "plt.show()"
      ],
      "metadata": {
        "id": "Spzv7hhkSFoI"
      },
      "execution_count": null,
      "outputs": []
    },
    {
      "cell_type": "markdown",
      "source": [
        "##### 1. Why did you pick the specific chart?"
      ],
      "metadata": {
        "id": "gCFgpxoyphqP"
      }
    },
    {
      "cell_type": "markdown",
      "source": [
        "The countplot was chosen because it effectively illustrates the distribution of categorical data, such as the number of movies and TV shows released each year. Using hue to differentiate between movie and TV show releases adds another layer of insight, allowing for easy comparison between the two types of content over time.\n",
        "\n",
        "\n",
        "\n",
        "\n",
        "\n",
        "\n",
        "\n"
      ],
      "metadata": {
        "id": "TVxDimi2phqP"
      }
    },
    {
      "cell_type": "markdown",
      "source": [
        "##### 2. What is/are the insight(s) found from the chart?"
      ],
      "metadata": {
        "id": "OVtJsKN_phqQ"
      }
    },
    {
      "cell_type": "markdown",
      "source": [
        "The Distribution of release years in the histogram shows a general trend of movies being released in netflix starting from 1980, the number of releases gradually increased, significant growth was observed from year 2000, the highest peak of the distribution is observed between 2010 and 2020, indicating a high number of movies/tv shows released during that period.\n",
        "\n",
        "In terms of content type, the bar graph highlights that 2017 and 2020 demostrate the highest trends. These years exhibit a significant number of movies releases, TV shows, releases and combination of both on netflix."
      ],
      "metadata": {
        "id": "ngGi97qjphqQ"
      }
    },
    {
      "cell_type": "markdown",
      "source": [
        "##### 3. Will the gained insights help creating a positive business impact?\n",
        "Are there any insights that lead to negative growth? Justify with specific reason."
      ],
      "metadata": {
        "id": "lssrdh5qphqQ"
      }
    },
    {
      "cell_type": "markdown",
      "source": [
        "Yes, these insights can indeed lead to a positive business impact for Netflix or any content streaming platform. Understanding the trends in release years can inform content acquisition, production, and licensing strategies. Specifically:\n",
        "\n",
        "**Content Acquisition and Production**: Recognizing the increasing trend in releases from 2000 onwards, particularly the peak between 2010 and 2020, suggests a growing demand for content during this period. Netflix can strategically acquire or produce content to cater to this demand, ensuring a diverse and engaging library for subscribers.\n",
        "\n",
        "**Content Recommendation and Personalization**: Knowing the peak years such as 2017 and 2020 allows Netflix to refine its recommendation algorithms. By promoting content released during these periods, the platform can enhance user engagement and satisfaction, leading to increased retention and subscriber loyalty.\n",
        "\n",
        "**Marketing and Promotions**: Highlighting the abundance of content released during peak years can be leveraged in marketing campaigns. Netflix can use this information to promote its extensive library of movies and TV shows, attracting new subscribers and retaining existing ones through targeted promotions.\n",
        "\n",
        "**Strategic Partnerships**: Insights into release year trends can facilitate strategic partnerships with content creators and production studios. Netflix can collaborate with filmmakers and studios to develop exclusive content tailored to the preferences of its audience during peak release years, thereby strengthening its content offering and competitive advantage."
      ],
      "metadata": {
        "id": "tBpY5ekJphqQ"
      }
    },
    {
      "cell_type": "markdown",
      "source": [
        "#### Chart - 10"
      ],
      "metadata": {
        "id": "U2RJ9gkRphqQ"
      }
    },
    {
      "cell_type": "code",
      "source": [
        "# Chart - 10 visualization code\n",
        "director_counts = df['director'].value_counts().head(25).reset_index()\n",
        "director_counts.columns = ['Director', 'Number of Movies']\n",
        "\n",
        "# Create the bar plot using Plotly Express\n",
        "fig = px.bar(director_counts, x='Number of Movies', y='Director', orientation='h',\n",
        "             title='Top 25 Directors with Highest Number of Movies',\n",
        "             labels={'Number of Movies': 'Number of Movies', 'Director': 'Director'})\n",
        "fig.update_traces(marker_color='red')  # Setting bar color to red\n",
        "fig.update_layout(plot_bgcolor='black', paper_bgcolor='black',  # Setting black background for the plot\n",
        "                  xaxis=dict(title='Number of Movies', color='white', showgrid=False),  # Setting x-axis properties\n",
        "                  yaxis=dict(title='Director', color='white', showgrid=False))  # Setting y-axis properties\n",
        "fig.show()"
      ],
      "metadata": {
        "id": "GM7a4YP4phqQ"
      },
      "execution_count": null,
      "outputs": []
    },
    {
      "cell_type": "markdown",
      "source": [
        "##### 1. Why did you pick the specific chart?"
      ],
      "metadata": {
        "id": "1M8mcRywphqQ"
      }
    },
    {
      "cell_type": "markdown",
      "source": [
        "I chose a horizontal bar chart because it effectively displays the relationship between the directors and the number of movies they have directed. With the director names along the y-axis and the corresponding number of movies along the x-axis, it's easy to compare the number of movies directed by different directors. Additionally, the horizontal orientation allows for longer director names to be displayed without overlap, enhancing readability.\n",
        "\n",
        "\n",
        "\n",
        "\n",
        "\n",
        "\n",
        "\n"
      ],
      "metadata": {
        "id": "8agQvks0phqQ"
      }
    },
    {
      "cell_type": "markdown",
      "source": [
        "##### 2. What is/are the insight(s) found from the chart?"
      ],
      "metadata": {
        "id": "tgIPom80phqQ"
      }
    },
    {
      "cell_type": "markdown",
      "source": [
        "By visualisation, we can see that the director with most number of movies is Raul Campos, Jan Suter with 18 movies and directors with least number of movies are-Fernando Ayllon, Yilmaz, mcG etc."
      ],
      "metadata": {
        "id": "Qp13pnNzphqQ"
      }
    },
    {
      "cell_type": "markdown",
      "source": [
        "##### 3. Will the gained insights help creating a positive business impact?\n",
        "Are there any insights that lead to negative growth? Justify with specific reason."
      ],
      "metadata": {
        "id": "JMzcOPDDphqR"
      }
    },
    {
      "cell_type": "markdown",
      "source": [
        " leveraging insights into directorship patterns enables platforms to make informed decisions regarding content acquisition, marketing strategies, user experience enhancements, and strategic partnerships, ultimately leading to a positive business impact through increased viewership, engagement, and brand loyalty.\n",
        "\n",
        "\n",
        "\n",
        "\n",
        "\n",
        "\n",
        "\n"
      ],
      "metadata": {
        "id": "R4Ka1PC2phqR"
      }
    },
    {
      "cell_type": "markdown",
      "source": [
        "#### Chart - 14 - Correlation Heatmap"
      ],
      "metadata": {
        "id": "NC_X3p0fY2L0"
      }
    },
    {
      "cell_type": "code",
      "source": [
        "# Correlation Heatmap visualization code\n",
        "ratings={\n",
        "    'TV-PG':'Older Kids',\n",
        "    'TV-MA':'Adults',\n",
        "    'TV-Y7-FV':'Older Kids',\n",
        "    'TV-Y7':'Older Kids',\n",
        "    'TV-14':'Teens',\n",
        "    'R':'Adults',\n",
        "    'TV-Y':'Kids',\n",
        "    'NR':'Adults',\n",
        "    'PG-13':'Teens',\n",
        "    'TV-G':'Kids',\n",
        "    'PG':'Older Kids',\n",
        "    'G':'Kids',\n",
        "    'UR':'Adults',\n",
        "    'NC-17':'Adults'\n",
        "}\n",
        "df['target_ages']=df['rating'].replace(ratings)"
      ],
      "metadata": {
        "id": "xyC9zolEZNRQ"
      },
      "execution_count": null,
      "outputs": []
    },
    {
      "cell_type": "code",
      "source": [
        "df['count']=1\n",
        "data = df.groupby('country')['count'].sum().sort_values(ascending=False).reset_index()[:10]\n",
        "top_countries = data['country']\n"
      ],
      "metadata": {
        "id": "aX01oUAfgND0"
      },
      "execution_count": null,
      "outputs": []
    },
    {
      "cell_type": "code",
      "source": [
        "df_heatmap=df.loc[df['country'].isin(top_countries)]\n",
        "df_heatmap=pd.crosstab(df_heatmap['country'],df_heatmap['target_ages'],normalize='index').T\n",
        "df_heatmap"
      ],
      "metadata": {
        "id": "OmUFgLiUjPgK"
      },
      "execution_count": null,
      "outputs": []
    },
    {
      "cell_type": "code",
      "source": [
        "country_order=['United States','India','United Kingdom','Canada','Japan','France','South Korea','Spain','Mexico']\n",
        "age_order=['Adults','Teens','Older Kids','Kids']\n",
        "df_heatmap = df_heatmap.reindex(index=age_order, columns=country_order)\n",
        "# Create the heatmap using Plotly Express\n",
        "fig = px.imshow(\n",
        "    df_heatmap,\n",
        "    labels=dict(x=\"Country\", y=\"Age Group\", color=\"Value\"),\n",
        "    x=country_order,\n",
        "    y=age_order,\n",
        "    color_continuous_scale='Reds',\n",
        "    zmin=0.05,\n",
        "    zmax=0.6,\n",
        "    aspect=\"auto\"\n",
        ")\n",
        "\n",
        "# Add annotations\n",
        "fig.update_traces(text=df_heatmap.values, texttemplate='%{text:.1%}', textfont_size=12)\n",
        "\n",
        "# Update layout for better visual appearance\n",
        "fig.update_layout(\n",
        "    title='Heatmap of Age Groups by Country',\n",
        "    xaxis_title='Country',\n",
        "    yaxis_title='Age Group',\n",
        "    width=800,\n",
        "    height=800\n",
        ")\n",
        "\n",
        "fig.show()"
      ],
      "metadata": {
        "id": "04qaXfW4lGk8"
      },
      "execution_count": null,
      "outputs": []
    },
    {
      "cell_type": "markdown",
      "source": [
        "##### 1. Why did you pick the specific chart?"
      ],
      "metadata": {
        "id": "UV0SzAkaZNRQ"
      }
    },
    {
      "cell_type": "markdown",
      "source": [
        "I initially picked the correlation heatmap because you asked for a way to visualize correlations in your dataset df. A correlation heatmap is an effective tool for several reasons:\n",
        "\n",
        "Understand Relationships: It visually represents the pairwise correlations between numerical variables in your dataset. This can help you identify patterns, such as which variables are positively or negatively correlated.\n",
        "\n",
        "Feature Selection: In machine learning and statistical modeling, understanding correlations can help in feature selection. Highly correlated features can indicate redundancy, which can be reduced by selecting only one of such features to avoid multicollinearity.\n",
        "\n",
        "Data Quality Check: A correlation heatmap can help you identify unexpected correlations that might suggest issues in the data collection process or errors in the data.\n",
        "\n",
        "Insightful Analysis: It provides insights that might not be immediately apparent from raw data or simple statistics. For example, if two variables show a high correlation, it might warrant further investigation into the cause."
      ],
      "metadata": {
        "id": "DVPuT8LYZNRQ"
      }
    },
    {
      "cell_type": "markdown",
      "source": [
        "##### 2. What is/are the insight(s) found from the chart?"
      ],
      "metadata": {
        "id": "YPEH6qLeZNRQ"
      }
    },
    {
      "cell_type": "markdown",
      "source": [
        "among the countries listed, Spain stands out with the highest percentage of adults showing interest at 84%, This indicates a strong interest in the subject among the adults in spain\n",
        "\n",
        "**France**- Follows closely with 68% of adults expressing interest, demonstrating a significant level of engagement in the subject.\n",
        "\n",
        "**India**- it has the highest percentage of interest among teenagers, with 57% showing interest. This suggests a notable interest among the Younger population of India.\n",
        "\n",
        "**United Kingdom**-It has relatively high level of interest among adults, with 51% expressing interest.\n",
        "\n",
        "**Mexico**- Here also demonstrates a substantial level of interest with 77% of adults showing interest in the subject"
      ],
      "metadata": {
        "id": "bfSqtnDqZNRR"
      }
    },
    {
      "cell_type": "markdown",
      "source": [
        "#### Chart - 15 - Funnel Chart"
      ],
      "metadata": {
        "id": "q29F0dvdveiT"
      }
    },
    {
      "cell_type": "code",
      "source": [
        "#visualization code\n",
        "country_count=df['country'].value_counts().sort_values(ascending=False)\n",
        "country_count=pd.DataFrame(country_count)\n",
        "topcountries=country_count[0:11]\n",
        "topcountries"
      ],
      "metadata": {
        "id": "o58-TEIhveiU"
      },
      "execution_count": null,
      "outputs": []
    },
    {
      "cell_type": "code",
      "source": [
        "data3=dict(\n",
        "    number=[3062,923,397,226,183,177,134,115,101,100,100],\n",
        "    country=['United States','India','United Kingdom','Japan','South Korea','Canada','Spain','France','Egypt','Turkey','Mexico']\n",
        ")\n",
        "custom_reds = ['#FF0000', '#FF3333', '#FF6666', '#FF9999', '#FFCCCC']\n",
        "fig=px.funnel(data3,\n",
        "              x='number',\n",
        "              y='country',\n",
        "              title='Funnel Chart of top 10 countries by number of movies',\n",
        "              labels={'number':'Number of Movies','country':'country'},\n",
        "              color_discrete_sequence=custom_reds,\n",
        "              height=1000,\n",
        "              width=900,\n",
        "              template='plotly_dark')\n",
        "fig.show()"
      ],
      "metadata": {
        "id": "Mw-6k0XCnrjM"
      },
      "execution_count": null,
      "outputs": []
    },
    {
      "cell_type": "markdown",
      "source": [
        "##### 1. Why did you pick the specific chart?"
      ],
      "metadata": {
        "id": "EXh0U9oCveiU"
      }
    },
    {
      "cell_type": "markdown",
      "source": [
        "Hierarchical Data Representation: Funnel charts are designed to show data that progressively decreases. This makes it perfect for visualizing the top 10 countries by the number of movies, where each subsequent stage (country) has fewer movies than the previous one.\n",
        "\n",
        "Clear Visual Comparison: The funnel shape inherently provides a visual comparison of sizes, making it easy to see the largest and smallest categories at a glance.\n",
        "\n",
        "Ranking Insight: Since you're interested in the top 10 countries, the funnel chart naturally emphasizes the ranking and comparison among these countries.\n"
      ],
      "metadata": {
        "id": "eMmPjTByveiU"
      }
    },
    {
      "cell_type": "markdown",
      "source": [
        "##### 2. What is/are the insight(s) found from the chart?"
      ],
      "metadata": {
        "id": "22aHeOlLveiV"
      }
    },
    {
      "cell_type": "markdown",
      "source": [
        "The United States has the highest number of Movies, with 3062 films, indicating a dominant presence in the film industry. India is second Highest contributor with 923 movies, demonstrating a significant presence in the global Movies/TV shows market."
      ],
      "metadata": {
        "id": "uPQ8RGwHveiV"
      }
    },
    {
      "cell_type": "markdown",
      "source": [
        "## ***5. Hypothesis Testing***"
      ],
      "metadata": {
        "id": "g-ATYxFrGrvw"
      }
    },
    {
      "cell_type": "markdown",
      "source": [
        "### Based on your chart experiments, define three hypothetical statements from the dataset. In the next three questions, perform hypothesis testing to obtain final conclusion about the statements through your code and statistical testing."
      ],
      "metadata": {
        "id": "Yfr_Vlr8HBkt"
      }
    },
    {
      "cell_type": "markdown",
      "source": [
        "Answer Here."
      ],
      "metadata": {
        "id": "-7MS06SUHkB-"
      }
    },
    {
      "cell_type": "code",
      "source": [
        "netflix_hypo=df.copy()\n",
        "netflix_hypo.head(1)"
      ],
      "metadata": {
        "id": "3GQXTkaPBp3S"
      },
      "execution_count": null,
      "outputs": []
    },
    {
      "cell_type": "code",
      "source": [
        "# Filtering movies by Type of Show\n",
        "netflix_hypo=netflix_hypo[netflix_hypo['type']=='Movie']"
      ],
      "metadata": {
        "id": "M8kF-0VXCE70"
      },
      "execution_count": null,
      "outputs": []
    },
    {
      "cell_type": "code",
      "source": [
        "rating_ages={\n",
        "    'TV-PG':'Older Kids',\n",
        "    'TV-MA':'Adults',\n",
        "    'TV-Y7-FV':'Older Kids',\n",
        "    'TV-Y7':'Older Kids',\n",
        "    'TV-14':'Teens',\n",
        "    'R':'Adults',\n",
        "    'TV-Y':'Kids',\n",
        "    'NR':'Adults',\n",
        "    'PG-13':'Teens',\n",
        "    'TV-G':'Kids',\n",
        "    'PG':'Older Kids',\n",
        "    'G':'Kids',\n",
        "    'UR':'Adults',\n",
        "    'NC-17':'Adults'\n",
        "}\n",
        "\n",
        "netflix_hypo['target_ages'] = netflix_hypo['rating'].replace(rating_ages)\n",
        "#Unique Target Ages\n",
        "netflix_hypo['target_ages'].unique()"
      ],
      "metadata": {
        "id": "O1_hYHuFCsOE"
      },
      "execution_count": null,
      "outputs": []
    },
    {
      "cell_type": "code",
      "source": [
        "netflix_hypo['target_ages']=pd.Categorical(netflix_hypo['target_ages'], categories=['Kids','Older Kids','Teens','Adults'])\n",
        "\n",
        "netflix_hypo['duration'] = netflix_hypo['duration'].astype(str)\n",
        "netflix_hypo['duration']=netflix_hypo['duration'].str.extract('(\\d+)')\n",
        "netflix_hypo['duration']=pd.to_numeric(netflix_hypo['duration'])"
      ],
      "metadata": {
        "id": "2Cs_q2HKDZ7m"
      },
      "execution_count": null,
      "outputs": []
    },
    {
      "cell_type": "code",
      "source": [
        "grouping=netflix_hypo[['duration','target_ages']].groupby(by='target_ages')\n",
        "\n",
        "group=grouping.mean().reset_index()\n",
        "group"
      ],
      "metadata": {
        "id": "TteyFuw5EMB0"
      },
      "execution_count": null,
      "outputs": []
    },
    {
      "cell_type": "code",
      "source": [
        "from scipy import stats\n",
        "A=grouping.get_group('Kids')['duration']\n",
        "B=grouping.get_group('Older Kids')['duration']\n",
        "\n",
        "M1=A.mean()\n",
        "S1=A.std()\n",
        "\n",
        "\n",
        "M2=B.mean()\n",
        "S2=B.std()\n",
        "print(f'Kids - Mean : {M1}, std Dev: {S1}')\n",
        "print(f'Older Kids - Mean : {M2}, std Dev: {S2}')"
      ],
      "metadata": {
        "id": "yWum0y1oEi9S"
      },
      "execution_count": null,
      "outputs": []
    },
    {
      "cell_type": "code",
      "source": [
        "n1=len(A)\n",
        "n2=len(B)\n",
        "print(n1,n2)\n",
        "\n",
        "dof=n1+n2-2\n",
        "print('dof',dof)\n",
        "\n",
        "sp2=((n2-1)*S1**2 + (n1-1)*S2**2) / dof\n",
        "print('SP2',sp2)\n",
        "\n",
        "sp=np.sqrt(sp2)\n",
        "print('SP',sp)\n",
        "\n",
        "#T-Value\n",
        "t_val=(M1-M2)/(sp * np.sqrt(1/n1 + 1/n2))\n",
        "print('tvalue',t_val)"
      ],
      "metadata": {
        "id": "A7XKeOkhGm5F"
      },
      "execution_count": null,
      "outputs": []
    },
    {
      "cell_type": "markdown",
      "source": [
        "### Hypothetical Statement - 1"
      ],
      "metadata": {
        "id": "8yEUt7NnHlrM"
      }
    },
    {
      "cell_type": "markdown",
      "source": [
        "#### 1. State Your research hypothesis as a null hypothesis and alternate hypothesis."
      ],
      "metadata": {
        "id": "tEA2Xm5dHt1r"
      }
    },
    {
      "cell_type": "markdown",
      "source": [
        "Answer Here.\n",
        "\n",
        "Ho: Movies rated for kids and older kids are two hours Long.-Null Hypothesis\n",
        "\n",
        "Ha: Movies rated for Kids and older Kids are not at least two hours long-Alternate Hypothesis"
      ],
      "metadata": {
        "id": "HI9ZP0laH0D-"
      }
    },
    {
      "cell_type": "markdown",
      "source": [
        "#### 2. Perform an appropriate statistical test."
      ],
      "metadata": {
        "id": "I79__PHVH19G"
      }
    },
    {
      "cell_type": "code",
      "source": [
        "#t_distribution\n",
        "from scipy import stats\n",
        "stats.t.ppf(0.025,dof)"
      ],
      "metadata": {
        "id": "FV6BMKJZFzRY"
      },
      "execution_count": null,
      "outputs": []
    },
    {
      "cell_type": "code",
      "source": [
        "stats.t.ppf(0.975,dof)"
      ],
      "metadata": {
        "id": "Qzpy2sSiHCGN"
      },
      "execution_count": null,
      "outputs": []
    },
    {
      "cell_type": "markdown",
      "source": [
        "**T-Value** is **not** in the range, **the null Hypothesis is rejected**.\n",
        "\n",
        "**As a result, Movies rated for kids and older kids are not at least 2 hours long**"
      ],
      "metadata": {
        "id": "s2U0kk00ygSB"
      }
    },
    {
      "cell_type": "markdown",
      "source": [
        "## ***6. Feature Engineering & Data Pre-processing***"
      ],
      "metadata": {
        "id": "yLjJCtPM0KBk"
      }
    },
    {
      "cell_type": "markdown",
      "source": [
        "### 1. Handling Missing Values"
      ],
      "metadata": {
        "id": "xiyOF9F70UgQ"
      }
    },
    {
      "cell_type": "code",
      "source": [
        "# Handling Missing Values & Missing Value Imputation"
      ],
      "metadata": {
        "id": "iRsAHk1K0fpS"
      },
      "execution_count": null,
      "outputs": []
    },
    {
      "cell_type": "markdown",
      "source": [
        "#### What all missing value imputation techniques have you used and why did you use those techniques?"
      ],
      "metadata": {
        "id": "7wuGOrhz0itI"
      }
    },
    {
      "cell_type": "markdown",
      "source": [
        "Answer Here."
      ],
      "metadata": {
        "id": "1ixusLtI0pqI"
      }
    },
    {
      "cell_type": "markdown",
      "source": [
        "### 2. Handling Outliers"
      ],
      "metadata": {
        "id": "id1riN9m0vUs"
      }
    },
    {
      "cell_type": "code",
      "source": [
        "# Handling Outliers & Outlier treatments"
      ],
      "metadata": {
        "id": "M6w2CzZf04JK"
      },
      "execution_count": null,
      "outputs": []
    },
    {
      "cell_type": "markdown",
      "source": [
        "##### What all outlier treatment techniques have you used and why did you use those techniques?"
      ],
      "metadata": {
        "id": "578E2V7j08f6"
      }
    },
    {
      "cell_type": "markdown",
      "source": [
        "Answer Here."
      ],
      "metadata": {
        "id": "uGZz5OrT1HH-"
      }
    },
    {
      "cell_type": "markdown",
      "source": [
        "### 3. Categorical Encoding"
      ],
      "metadata": {
        "id": "89xtkJwZ18nB"
      }
    },
    {
      "cell_type": "code",
      "source": [
        "# Encode your categorical columns"
      ],
      "metadata": {
        "id": "21JmIYMG2hEo"
      },
      "execution_count": null,
      "outputs": []
    },
    {
      "cell_type": "markdown",
      "source": [
        "#### What all categorical encoding techniques have you used & why did you use those techniques?"
      ],
      "metadata": {
        "id": "67NQN5KX2AMe"
      }
    },
    {
      "cell_type": "markdown",
      "source": [
        "Answer Here."
      ],
      "metadata": {
        "id": "UDaue5h32n_G"
      }
    },
    {
      "cell_type": "markdown",
      "source": [
        "### 4. Textual Data Preprocessing\n",
        "(It's mandatory for textual dataset i.e., NLP, Sentiment Analysis, Text Clustering etc.)"
      ],
      "metadata": {
        "id": "Iwf50b-R2tYG"
      }
    },
    {
      "cell_type": "markdown",
      "source": [
        "#### 1. Expand Contraction"
      ],
      "metadata": {
        "id": "GMQiZwjn3iu7"
      }
    },
    {
      "cell_type": "code",
      "source": [
        "# Expand Contraction"
      ],
      "metadata": {
        "id": "PTouz10C3oNN"
      },
      "execution_count": null,
      "outputs": []
    },
    {
      "cell_type": "markdown",
      "source": [
        "#### 2. Lower Casing"
      ],
      "metadata": {
        "id": "WVIkgGqN3qsr"
      }
    },
    {
      "cell_type": "code",
      "source": [
        "# Lower Casing"
      ],
      "metadata": {
        "id": "88JnJ1jN3w7j"
      },
      "execution_count": null,
      "outputs": []
    },
    {
      "cell_type": "markdown",
      "source": [
        "#### 3. Removing Punctuations"
      ],
      "metadata": {
        "id": "XkPnILGE3zoT"
      }
    },
    {
      "cell_type": "code",
      "source": [
        "# Remove Punctuations"
      ],
      "metadata": {
        "id": "vqbBqNaA33c0"
      },
      "execution_count": null,
      "outputs": []
    },
    {
      "cell_type": "markdown",
      "source": [
        "#### 4. Removing URLs & Removing words and digits contain digits."
      ],
      "metadata": {
        "id": "Hlsf0x5436Go"
      }
    },
    {
      "cell_type": "code",
      "source": [
        "# Remove URLs & Remove words and digits contain digits"
      ],
      "metadata": {
        "id": "2sxKgKxu4Ip3"
      },
      "execution_count": null,
      "outputs": []
    },
    {
      "cell_type": "markdown",
      "source": [
        "#### 5. Removing Stopwords & Removing White spaces"
      ],
      "metadata": {
        "id": "mT9DMSJo4nBL"
      }
    },
    {
      "cell_type": "code",
      "source": [
        "# Remove Stopwords"
      ],
      "metadata": {
        "id": "T2LSJh154s8W"
      },
      "execution_count": null,
      "outputs": []
    },
    {
      "cell_type": "code",
      "source": [
        "# Remove White spaces"
      ],
      "metadata": {
        "id": "EgLJGffy4vm0"
      },
      "execution_count": null,
      "outputs": []
    },
    {
      "cell_type": "markdown",
      "source": [
        "#### 6. Rephrase Text"
      ],
      "metadata": {
        "id": "c49ITxTc407N"
      }
    },
    {
      "cell_type": "code",
      "source": [
        "# Rephrase Text"
      ],
      "metadata": {
        "id": "foqY80Qu48N2"
      },
      "execution_count": null,
      "outputs": []
    },
    {
      "cell_type": "markdown",
      "source": [
        "#### 7. Tokenization"
      ],
      "metadata": {
        "id": "OeJFEK0N496M"
      }
    },
    {
      "cell_type": "code",
      "source": [
        "# Tokenization"
      ],
      "metadata": {
        "id": "ijx1rUOS5CUU"
      },
      "execution_count": null,
      "outputs": []
    },
    {
      "cell_type": "markdown",
      "source": [
        "#### 8. Text Normalization"
      ],
      "metadata": {
        "id": "9ExmJH0g5HBk"
      }
    },
    {
      "cell_type": "code",
      "source": [
        "# Normalizing Text (i.e., Stemming, Lemmatization etc.)"
      ],
      "metadata": {
        "id": "AIJ1a-Zc5PY8"
      },
      "execution_count": null,
      "outputs": []
    },
    {
      "cell_type": "markdown",
      "source": [
        "##### Which text normalization technique have you used and why?"
      ],
      "metadata": {
        "id": "cJNqERVU536h"
      }
    },
    {
      "cell_type": "markdown",
      "source": [
        "Answer Here."
      ],
      "metadata": {
        "id": "Z9jKVxE06BC1"
      }
    },
    {
      "cell_type": "markdown",
      "source": [
        "#### 9. Part of speech tagging"
      ],
      "metadata": {
        "id": "k5UmGsbsOxih"
      }
    },
    {
      "cell_type": "code",
      "source": [
        "# POS Taging"
      ],
      "metadata": {
        "id": "btT3ZJBAO6Ik"
      },
      "execution_count": null,
      "outputs": []
    },
    {
      "cell_type": "markdown",
      "source": [
        "#### 10. Text Vectorization"
      ],
      "metadata": {
        "id": "T0VqWOYE6DLQ"
      }
    },
    {
      "cell_type": "code",
      "source": [
        "# Vectorizing Text"
      ],
      "metadata": {
        "id": "yBRtdhth6JDE"
      },
      "execution_count": null,
      "outputs": []
    },
    {
      "cell_type": "markdown",
      "source": [
        "##### Which text vectorization technique have you used and why?"
      ],
      "metadata": {
        "id": "qBMux9mC6MCf"
      }
    },
    {
      "cell_type": "markdown",
      "source": [
        "Answer Here."
      ],
      "metadata": {
        "id": "su2EnbCh6UKQ"
      }
    },
    {
      "cell_type": "markdown",
      "source": [
        "### 4. Feature Manipulation & Selection"
      ],
      "metadata": {
        "id": "-oLEiFgy-5Pf"
      }
    },
    {
      "cell_type": "markdown",
      "source": [
        "#### 1. Feature Manipulation"
      ],
      "metadata": {
        "id": "C74aWNz2AliB"
      }
    },
    {
      "cell_type": "code",
      "source": [
        "# Manipulate Features to minimize feature correlation and create new features"
      ],
      "metadata": {
        "id": "h1qC4yhBApWC"
      },
      "execution_count": null,
      "outputs": []
    },
    {
      "cell_type": "markdown",
      "source": [
        "#### 2. Feature Selection"
      ],
      "metadata": {
        "id": "2DejudWSA-a0"
      }
    },
    {
      "cell_type": "code",
      "source": [
        "# Select your features wisely to avoid overfitting"
      ],
      "metadata": {
        "id": "YLhe8UmaBCEE"
      },
      "execution_count": null,
      "outputs": []
    },
    {
      "cell_type": "markdown",
      "source": [
        "##### What all feature selection methods have you used  and why?"
      ],
      "metadata": {
        "id": "pEMng2IbBLp7"
      }
    },
    {
      "cell_type": "markdown",
      "source": [
        "Answer Here."
      ],
      "metadata": {
        "id": "rb2Lh6Z8BgGs"
      }
    },
    {
      "cell_type": "markdown",
      "source": [
        "##### Which all features you found important and why?"
      ],
      "metadata": {
        "id": "rAdphbQ9Bhjc"
      }
    },
    {
      "cell_type": "markdown",
      "source": [
        "Answer Here."
      ],
      "metadata": {
        "id": "fGgaEstsBnaf"
      }
    },
    {
      "cell_type": "markdown",
      "source": [
        "### 5. Data Transformation"
      ],
      "metadata": {
        "id": "TNVZ9zx19K6k"
      }
    },
    {
      "cell_type": "markdown",
      "source": [
        "#### Do you think that your data needs to be transformed? If yes, which transformation have you used. Explain Why?"
      ],
      "metadata": {
        "id": "nqoHp30x9hH9"
      }
    },
    {
      "cell_type": "code",
      "source": [
        "# Transform Your data"
      ],
      "metadata": {
        "id": "I6quWQ1T9rtH"
      },
      "execution_count": null,
      "outputs": []
    },
    {
      "cell_type": "markdown",
      "source": [
        "### 6. Data Scaling"
      ],
      "metadata": {
        "id": "rMDnDkt2B6du"
      }
    },
    {
      "cell_type": "code",
      "source": [
        "# Scaling your data"
      ],
      "metadata": {
        "id": "dL9LWpySC6x_"
      },
      "execution_count": null,
      "outputs": []
    },
    {
      "cell_type": "markdown",
      "source": [
        "##### Which method have you used to scale you data and why?"
      ],
      "metadata": {
        "id": "yiiVWRdJDDil"
      }
    },
    {
      "cell_type": "markdown",
      "source": [
        "### 7. Dimesionality Reduction"
      ],
      "metadata": {
        "id": "1UUpS68QDMuG"
      }
    },
    {
      "cell_type": "markdown",
      "source": [
        "##### Do you think that dimensionality reduction is needed? Explain Why?"
      ],
      "metadata": {
        "id": "kexQrXU-DjzY"
      }
    },
    {
      "cell_type": "markdown",
      "source": [
        "Answer Here."
      ],
      "metadata": {
        "id": "GGRlBsSGDtTQ"
      }
    },
    {
      "cell_type": "code",
      "source": [
        "# DImensionality Reduction (If needed)"
      ],
      "metadata": {
        "id": "kQfvxBBHDvCa"
      },
      "execution_count": null,
      "outputs": []
    },
    {
      "cell_type": "markdown",
      "source": [
        "##### Which dimensionality reduction technique have you used and why? (If dimensionality reduction done on dataset.)"
      ],
      "metadata": {
        "id": "T5CmagL3EC8N"
      }
    },
    {
      "cell_type": "markdown",
      "source": [
        "Answer Here."
      ],
      "metadata": {
        "id": "ZKr75IDuEM7t"
      }
    },
    {
      "cell_type": "markdown",
      "source": [
        "### 8. Data Splitting"
      ],
      "metadata": {
        "id": "BhH2vgX9EjGr"
      }
    },
    {
      "cell_type": "code",
      "source": [
        "# Split your data to train and test. Choose Splitting ratio wisely."
      ],
      "metadata": {
        "id": "0CTyd2UwEyNM"
      },
      "execution_count": null,
      "outputs": []
    },
    {
      "cell_type": "markdown",
      "source": [
        "##### What data splitting ratio have you used and why?"
      ],
      "metadata": {
        "id": "qjKvONjwE8ra"
      }
    },
    {
      "cell_type": "markdown",
      "source": [
        "Answer Here."
      ],
      "metadata": {
        "id": "Y2lJ8cobFDb_"
      }
    },
    {
      "cell_type": "markdown",
      "source": [
        "### 9. Handling Imbalanced Dataset"
      ],
      "metadata": {
        "id": "P1XJ9OREExlT"
      }
    },
    {
      "cell_type": "markdown",
      "source": [
        "##### Do you think the dataset is imbalanced? Explain Why."
      ],
      "metadata": {
        "id": "VFOzZv6IFROw"
      }
    },
    {
      "cell_type": "markdown",
      "source": [
        "Answer Here."
      ],
      "metadata": {
        "id": "GeKDIv7pFgcC"
      }
    },
    {
      "cell_type": "code",
      "source": [
        "# Handling Imbalanced Dataset (If needed)"
      ],
      "metadata": {
        "id": "nQsRhhZLFiDs"
      },
      "execution_count": null,
      "outputs": []
    },
    {
      "cell_type": "markdown",
      "source": [
        "##### What technique did you use to handle the imbalance dataset and why? (If needed to be balanced)"
      ],
      "metadata": {
        "id": "TIqpNgepFxVj"
      }
    },
    {
      "cell_type": "markdown",
      "source": [
        "Answer Here."
      ],
      "metadata": {
        "id": "qbet1HwdGDTz"
      }
    },
    {
      "cell_type": "markdown",
      "source": [
        "## ***7. ML Model Implementation***"
      ],
      "metadata": {
        "id": "VfCC591jGiD4"
      }
    },
    {
      "cell_type": "markdown",
      "source": [
        "### ML Model - 1"
      ],
      "metadata": {
        "id": "OB4l2ZhMeS1U"
      }
    },
    {
      "cell_type": "code",
      "source": [
        "# ML Model - 1 Implementation\n",
        "\n",
        "# Fit the Algorithm\n",
        "\n",
        "# Predict on the model"
      ],
      "metadata": {
        "id": "7ebyywQieS1U"
      },
      "execution_count": null,
      "outputs": []
    },
    {
      "cell_type": "markdown",
      "source": [
        "#### 1. Explain the ML Model used and it's performance using Evaluation metric Score Chart."
      ],
      "metadata": {
        "id": "ArJBuiUVfxKd"
      }
    },
    {
      "cell_type": "code",
      "source": [
        "# Visualizing evaluation Metric Score chart"
      ],
      "metadata": {
        "id": "rqD5ZohzfxKe"
      },
      "execution_count": null,
      "outputs": []
    },
    {
      "cell_type": "markdown",
      "source": [
        "#### 2. Cross- Validation & Hyperparameter Tuning"
      ],
      "metadata": {
        "id": "4qY1EAkEfxKe"
      }
    },
    {
      "cell_type": "code",
      "source": [
        "# ML Model - 1 Implementation with hyperparameter optimization techniques (i.e., GridSearch CV, RandomSearch CV, Bayesian Optimization etc.)\n",
        "\n",
        "# Fit the Algorithm\n",
        "\n",
        "# Predict on the model"
      ],
      "metadata": {
        "id": "Dy61ujd6fxKe"
      },
      "execution_count": null,
      "outputs": []
    },
    {
      "cell_type": "markdown",
      "source": [
        "##### Which hyperparameter optimization technique have you used and why?"
      ],
      "metadata": {
        "id": "PiV4Ypx8fxKe"
      }
    },
    {
      "cell_type": "markdown",
      "source": [
        "Answer Here."
      ],
      "metadata": {
        "id": "negyGRa7fxKf"
      }
    },
    {
      "cell_type": "markdown",
      "source": [
        "##### Have you seen any improvement? Note down the improvement with updates Evaluation metric Score Chart."
      ],
      "metadata": {
        "id": "TfvqoZmBfxKf"
      }
    },
    {
      "cell_type": "markdown",
      "source": [
        "Answer Here."
      ],
      "metadata": {
        "id": "OaLui8CcfxKf"
      }
    },
    {
      "cell_type": "markdown",
      "source": [
        "### ML Model - 2"
      ],
      "metadata": {
        "id": "dJ2tPlVmpsJ0"
      }
    },
    {
      "cell_type": "markdown",
      "source": [
        "#### 1. Explain the ML Model used and it's performance using Evaluation metric Score Chart."
      ],
      "metadata": {
        "id": "JWYfwnehpsJ1"
      }
    },
    {
      "cell_type": "code",
      "source": [
        "# Visualizing evaluation Metric Score chart"
      ],
      "metadata": {
        "id": "yEl-hgQWpsJ1"
      },
      "execution_count": null,
      "outputs": []
    },
    {
      "cell_type": "markdown",
      "source": [
        "#### 2. Cross- Validation & Hyperparameter Tuning"
      ],
      "metadata": {
        "id": "-jK_YjpMpsJ2"
      }
    },
    {
      "cell_type": "code",
      "source": [
        "# ML Model - 1 Implementation with hyperparameter optimization techniques (i.e., GridSearch CV, RandomSearch CV, Bayesian Optimization etc.)\n",
        "\n",
        "# Fit the Algorithm\n",
        "\n",
        "# Predict on the model"
      ],
      "metadata": {
        "id": "Dn0EOfS6psJ2"
      },
      "execution_count": null,
      "outputs": []
    },
    {
      "cell_type": "markdown",
      "source": [
        "##### Which hyperparameter optimization technique have you used and why?"
      ],
      "metadata": {
        "id": "HAih1iBOpsJ2"
      }
    },
    {
      "cell_type": "markdown",
      "source": [
        "Answer Here."
      ],
      "metadata": {
        "id": "9kBgjYcdpsJ2"
      }
    },
    {
      "cell_type": "markdown",
      "source": [
        "##### Have you seen any improvement? Note down the improvement with updates Evaluation metric Score Chart."
      ],
      "metadata": {
        "id": "zVGeBEFhpsJ2"
      }
    },
    {
      "cell_type": "markdown",
      "source": [
        "Answer Here."
      ],
      "metadata": {
        "id": "74yRdG6UpsJ3"
      }
    },
    {
      "cell_type": "markdown",
      "source": [
        "#### 3. Explain each evaluation metric's indication towards business and the business impact pf the ML model used."
      ],
      "metadata": {
        "id": "bmKjuQ-FpsJ3"
      }
    },
    {
      "cell_type": "markdown",
      "source": [
        "Answer Here."
      ],
      "metadata": {
        "id": "BDKtOrBQpsJ3"
      }
    },
    {
      "cell_type": "markdown",
      "source": [
        "### ML Model - 3"
      ],
      "metadata": {
        "id": "Fze-IPXLpx6K"
      }
    },
    {
      "cell_type": "code",
      "source": [
        "# ML Model - 3 Implementation\n",
        "\n",
        "# Fit the Algorithm\n",
        "\n",
        "# Predict on the model"
      ],
      "metadata": {
        "id": "FFrSXAtrpx6M"
      },
      "execution_count": null,
      "outputs": []
    },
    {
      "cell_type": "markdown",
      "source": [
        "#### 1. Explain the ML Model used and it's performance using Evaluation metric Score Chart."
      ],
      "metadata": {
        "id": "7AN1z2sKpx6M"
      }
    },
    {
      "cell_type": "code",
      "source": [
        "# Visualizing evaluation Metric Score chart"
      ],
      "metadata": {
        "id": "xIY4lxxGpx6M"
      },
      "execution_count": null,
      "outputs": []
    },
    {
      "cell_type": "markdown",
      "source": [
        "#### 2. Cross- Validation & Hyperparameter Tuning"
      ],
      "metadata": {
        "id": "9PIHJqyupx6M"
      }
    },
    {
      "cell_type": "code",
      "source": [
        "# ML Model - 3 Implementation with hyperparameter optimization techniques (i.e., GridSearch CV, RandomSearch CV, Bayesian Optimization etc.)\n",
        "\n",
        "# Fit the Algorithm\n",
        "\n",
        "# Predict on the model"
      ],
      "metadata": {
        "id": "eSVXuaSKpx6M"
      },
      "execution_count": null,
      "outputs": []
    },
    {
      "cell_type": "markdown",
      "source": [
        "##### Which hyperparameter optimization technique have you used and why?"
      ],
      "metadata": {
        "id": "_-qAgymDpx6N"
      }
    },
    {
      "cell_type": "markdown",
      "source": [
        "Answer Here."
      ],
      "metadata": {
        "id": "lQMffxkwpx6N"
      }
    },
    {
      "cell_type": "markdown",
      "source": [
        "##### Have you seen any improvement? Note down the improvement with updates Evaluation metric Score Chart."
      ],
      "metadata": {
        "id": "Z-hykwinpx6N"
      }
    },
    {
      "cell_type": "markdown",
      "source": [
        "Answer Here."
      ],
      "metadata": {
        "id": "MzVzZC6opx6N"
      }
    },
    {
      "cell_type": "markdown",
      "source": [
        "### 1. Which Evaluation metrics did you consider for a positive business impact and why?"
      ],
      "metadata": {
        "id": "h_CCil-SKHpo"
      }
    },
    {
      "cell_type": "markdown",
      "source": [
        "Answer Here."
      ],
      "metadata": {
        "id": "jHVz9hHDKFms"
      }
    },
    {
      "cell_type": "markdown",
      "source": [
        "### 2. Which ML model did you choose from the above created models as your final prediction model and why?"
      ],
      "metadata": {
        "id": "cBFFvTBNJzUa"
      }
    },
    {
      "cell_type": "markdown",
      "source": [
        "Answer Here."
      ],
      "metadata": {
        "id": "6ksF5Q1LKTVm"
      }
    },
    {
      "cell_type": "markdown",
      "source": [
        "### 3. Explain the model which you have used and the feature importance using any model explainability tool?"
      ],
      "metadata": {
        "id": "HvGl1hHyA_VK"
      }
    },
    {
      "cell_type": "markdown",
      "source": [
        "Answer Here."
      ],
      "metadata": {
        "id": "YnvVTiIxBL-C"
      }
    },
    {
      "cell_type": "markdown",
      "source": [
        "## ***8.*** ***Future Work (Optional)***"
      ],
      "metadata": {
        "id": "EyNgTHvd2WFk"
      }
    },
    {
      "cell_type": "markdown",
      "source": [
        "### 1. Save the best performing ml model in a pickle file or joblib file format for deployment process.\n"
      ],
      "metadata": {
        "id": "KH5McJBi2d8v"
      }
    },
    {
      "cell_type": "code",
      "source": [
        "# Save the File"
      ],
      "metadata": {
        "id": "bQIANRl32f4J"
      },
      "execution_count": null,
      "outputs": []
    },
    {
      "cell_type": "markdown",
      "source": [
        "### 2. Again Load the saved model file and try to predict unseen data for a sanity check.\n"
      ],
      "metadata": {
        "id": "iW_Lq9qf2h6X"
      }
    },
    {
      "cell_type": "code",
      "source": [
        "# Load the File and predict unseen data."
      ],
      "metadata": {
        "id": "oEXk9ydD2nVC"
      },
      "execution_count": null,
      "outputs": []
    },
    {
      "cell_type": "markdown",
      "source": [
        "### ***Congrats! Your model is successfully created and ready for deployment on a live server for a real user interaction !!!***"
      ],
      "metadata": {
        "id": "-Kee-DAl2viO"
      }
    },
    {
      "cell_type": "markdown",
      "source": [
        "# **Conclusion**"
      ],
      "metadata": {
        "id": "gCX9965dhzqZ"
      }
    },
    {
      "cell_type": "markdown",
      "source": [
        "Write the conclusion here."
      ],
      "metadata": {
        "id": "Fjb1IsQkh3yE"
      }
    },
    {
      "cell_type": "markdown",
      "source": [
        "### ***Hurrah! You have successfully completed your Machine Learning Capstone Project !!!***"
      ],
      "metadata": {
        "id": "gIfDvo9L0UH2"
      }
    }
  ]
}